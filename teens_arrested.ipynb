{
 "cells": [
  {
   "cell_type": "code",
   "execution_count": 104,
   "metadata": {},
   "outputs": [],
   "source": [
    "import pandas as pd \n",
    "import numpy as np\n"
   ]
  },
  {
   "cell_type": "code",
   "execution_count": 105,
   "metadata": {},
   "outputs": [
    {
     "data": {
      "text/html": [
       "<div>\n",
       "<style scoped>\n",
       "    .dataframe tbody tr th:only-of-type {\n",
       "        vertical-align: middle;\n",
       "    }\n",
       "\n",
       "    .dataframe tbody tr th {\n",
       "        vertical-align: top;\n",
       "    }\n",
       "\n",
       "    .dataframe thead th {\n",
       "        text-align: right;\n",
       "    }\n",
       "</style>\n",
       "<table border=\"1\" class=\"dataframe\">\n",
       "  <thead>\n",
       "    <tr style=\"text-align: right;\">\n",
       "      <th></th>\n",
       "      <th>Charges</th>\n",
       "      <th>Charges Sequence #</th>\n",
       "      <th>Arrest #</th>\n",
       "      <th>Age</th>\n",
       "    </tr>\n",
       "    <tr>\n",
       "      <th>Date</th>\n",
       "      <th></th>\n",
       "      <th></th>\n",
       "      <th></th>\n",
       "      <th></th>\n",
       "    </tr>\n",
       "  </thead>\n",
       "  <tbody>\n",
       "    <tr>\n",
       "      <th>2023-03-18</th>\n",
       "      <td>INVOLUNTARY HOSPITALIZATION OF MENTALLY ILL - ...</td>\n",
       "      <td>1.0</td>\n",
       "      <td>23018261</td>\n",
       "      <td>17</td>\n",
       "    </tr>\n",
       "    <tr>\n",
       "      <th>2023-03-10</th>\n",
       "      <td>ROBBERY - 1ST DEGREE 515.020 12002 120</td>\n",
       "      <td>1.0</td>\n",
       "      <td>9426220-1</td>\n",
       "      <td>15</td>\n",
       "    </tr>\n",
       "    <tr>\n",
       "      <th>2023-01-06</th>\n",
       "      <td>CRIMINAL MISCHIEF - 1ST DEGREE 512.020 01401 290</td>\n",
       "      <td>1.0</td>\n",
       "      <td>DM90637-1</td>\n",
       "      <td>13</td>\n",
       "    </tr>\n",
       "    <tr>\n",
       "      <th>2023-07-16</th>\n",
       "      <td>ASSAULT-3RD DEGREE-POLICE/PROBATION OFFICER-ID...</td>\n",
       "      <td>2.0</td>\n",
       "      <td>DQ55337</td>\n",
       "      <td>14</td>\n",
       "    </tr>\n",
       "    <tr>\n",
       "      <th>2023-07-16</th>\n",
       "      <td>MENACING 508.050 00803 13C</td>\n",
       "      <td>1.0</td>\n",
       "      <td>DQ55337</td>\n",
       "      <td>14</td>\n",
       "    </tr>\n",
       "    <tr>\n",
       "      <th>...</th>\n",
       "      <td>...</td>\n",
       "      <td>...</td>\n",
       "      <td>...</td>\n",
       "      <td>...</td>\n",
       "    </tr>\n",
       "    <tr>\n",
       "      <th>2023-09-17</th>\n",
       "      <td>NO OPERATORS/MOPED LICENSE 186.410(1) 00380 999</td>\n",
       "      <td>2.0</td>\n",
       "      <td>P463521</td>\n",
       "      <td>17</td>\n",
       "    </tr>\n",
       "    <tr>\n",
       "      <th>2023-09-17</th>\n",
       "      <td>NO OR EXPIRED REGISTRATION PLATES 186.170 0042...</td>\n",
       "      <td>3.0</td>\n",
       "      <td>P463521</td>\n",
       "      <td>17</td>\n",
       "    </tr>\n",
       "    <tr>\n",
       "      <th>2023-09-17</th>\n",
       "      <td>RECEIVING STOLEN PROPERTY $10,000 OR MORE 514....</td>\n",
       "      <td>1.0</td>\n",
       "      <td>P463522</td>\n",
       "      <td>17</td>\n",
       "    </tr>\n",
       "    <tr>\n",
       "      <th>2023-01-05</th>\n",
       "      <td>FAILURE TO APPEAR, CITATION FOR MISDEMEANOR 43...</td>\n",
       "      <td>1.0</td>\n",
       "      <td>P469742-1</td>\n",
       "      <td>14</td>\n",
       "    </tr>\n",
       "    <tr>\n",
       "      <th>2023-10-31</th>\n",
       "      <td>RECEIVING STOLEN PROPERTY $1,000 &lt; $10,000 514...</td>\n",
       "      <td>1.0</td>\n",
       "      <td>P958498</td>\n",
       "      <td>16</td>\n",
       "    </tr>\n",
       "  </tbody>\n",
       "</table>\n",
       "<p>4350 rows × 4 columns</p>\n",
       "</div>"
      ],
      "text/plain": [
       "                                                      Charges  \\\n",
       "Date                                                            \n",
       "2023-03-18  INVOLUNTARY HOSPITALIZATION OF MENTALLY ILL - ...   \n",
       "2023-03-10             ROBBERY - 1ST DEGREE 515.020 12002 120   \n",
       "2023-01-06   CRIMINAL MISCHIEF - 1ST DEGREE 512.020 01401 290   \n",
       "2023-07-16  ASSAULT-3RD DEGREE-POLICE/PROBATION OFFICER-ID...   \n",
       "2023-07-16                         MENACING 508.050 00803 13C   \n",
       "...                                                       ...   \n",
       "2023-09-17    NO OPERATORS/MOPED LICENSE 186.410(1) 00380 999   \n",
       "2023-09-17  NO OR EXPIRED REGISTRATION PLATES 186.170 0042...   \n",
       "2023-09-17  RECEIVING STOLEN PROPERTY $10,000 OR MORE 514....   \n",
       "2023-01-05  FAILURE TO APPEAR, CITATION FOR MISDEMEANOR 43...   \n",
       "2023-10-31  RECEIVING STOLEN PROPERTY $1,000 < $10,000 514...   \n",
       "\n",
       "            Charges Sequence #   Arrest #  Age  \n",
       "Date                                            \n",
       "2023-03-18                 1.0   23018261   17  \n",
       "2023-03-10                 1.0  9426220-1   15  \n",
       "2023-01-06                 1.0  DM90637-1   13  \n",
       "2023-07-16                 2.0    DQ55337   14  \n",
       "2023-07-16                 1.0    DQ55337   14  \n",
       "...                        ...        ...  ...  \n",
       "2023-09-17                 2.0    P463521   17  \n",
       "2023-09-17                 3.0    P463521   17  \n",
       "2023-09-17                 1.0    P463522   17  \n",
       "2023-01-05                 1.0  P469742-1   14  \n",
       "2023-10-31                 1.0    P958498   16  \n",
       "\n",
       "[4350 rows x 4 columns]"
      ]
     },
     "execution_count": 105,
     "metadata": {},
     "output_type": "execute_result"
    }
   ],
   "source": [
    "teen_data = pd.read_csv('LMPD_CleanedData_YouthCrimeFull_2023-2024.csv')\n",
    "pd.set_option('display.max_rows', 10)\n",
    "teen_data.set_index('Date') \n",
    "\n"
   ]
  },
  {
   "cell_type": "code",
   "execution_count": 128,
   "metadata": {},
   "outputs": [
    {
     "ename": "AttributeError",
     "evalue": "'DataFrameGroupBy' object has no attribute 'Month'",
     "output_type": "error",
     "traceback": [
      "\u001b[0;31m---------------------------------------------------------------------------\u001b[0m",
      "\u001b[0;31mAttributeError\u001b[0m                            Traceback (most recent call last)",
      "Cell \u001b[0;32mIn[128], line 8\u001b[0m\n\u001b[1;32m      5\u001b[0m guns_demographics \u001b[38;5;241m=\u001b[39m guns_demographics\u001b[38;5;241m.\u001b[39mdrop(columns\u001b[38;5;241m=\u001b[39m[\u001b[38;5;124m'\u001b[39m\u001b[38;5;124mAgency Name\u001b[39m\u001b[38;5;124m'\u001b[39m, \u001b[38;5;124m'\u001b[39m\u001b[38;5;124mGender\u001b[39m\u001b[38;5;124m'\u001b[39m, \u001b[38;5;124m'\u001b[39m\u001b[38;5;124mRace\u001b[39m\u001b[38;5;124m'\u001b[39m, \u001b[38;5;124m'\u001b[39m\u001b[38;5;124mEthnicity\u001b[39m\u001b[38;5;124m'\u001b[39m, \u001b[38;5;124m'\u001b[39m\u001b[38;5;124mCharges Classification\u001b[39m\u001b[38;5;124m'\u001b[39m,\u001b[38;5;124m'\u001b[39m\u001b[38;5;124mArrest Type\u001b[39m\u001b[38;5;124m'\u001b[39m])\n\u001b[1;32m      6\u001b[0m guns_demographics\n\u001b[0;32m----> 8\u001b[0m \u001b[43mguns_demographics\u001b[49m\u001b[38;5;241;43m.\u001b[39;49m\u001b[43mgroupby\u001b[49m\u001b[43m(\u001b[49m\u001b[38;5;124;43m'\u001b[39;49m\u001b[38;5;124;43mAge\u001b[39;49m\u001b[38;5;124;43m'\u001b[39;49m\u001b[43m)\u001b[49m\u001b[38;5;241;43m.\u001b[39;49m\u001b[43mMonth\u001b[49m\u001b[38;5;241m.\u001b[39mvalue_counts()\n",
      "File \u001b[0;32m/Library/Frameworks/Python.framework/Versions/3.12/lib/python3.12/site-packages/pandas/core/groupby/groupby.py:1363\u001b[0m, in \u001b[0;36mGroupBy.__getattr__\u001b[0;34m(self, attr)\u001b[0m\n\u001b[1;32m   1360\u001b[0m \u001b[38;5;28;01mif\u001b[39;00m attr \u001b[38;5;129;01min\u001b[39;00m \u001b[38;5;28mself\u001b[39m\u001b[38;5;241m.\u001b[39mobj:\n\u001b[1;32m   1361\u001b[0m     \u001b[38;5;28;01mreturn\u001b[39;00m \u001b[38;5;28mself\u001b[39m[attr]\n\u001b[0;32m-> 1363\u001b[0m \u001b[38;5;28;01mraise\u001b[39;00m \u001b[38;5;167;01mAttributeError\u001b[39;00m(\n\u001b[1;32m   1364\u001b[0m     \u001b[38;5;124mf\u001b[39m\u001b[38;5;124m\"\u001b[39m\u001b[38;5;124m'\u001b[39m\u001b[38;5;132;01m{\u001b[39;00m\u001b[38;5;28mtype\u001b[39m(\u001b[38;5;28mself\u001b[39m)\u001b[38;5;241m.\u001b[39m\u001b[38;5;18m__name__\u001b[39m\u001b[38;5;132;01m}\u001b[39;00m\u001b[38;5;124m'\u001b[39m\u001b[38;5;124m object has no attribute \u001b[39m\u001b[38;5;124m'\u001b[39m\u001b[38;5;132;01m{\u001b[39;00mattr\u001b[38;5;132;01m}\u001b[39;00m\u001b[38;5;124m'\u001b[39m\u001b[38;5;124m\"\u001b[39m\n\u001b[1;32m   1365\u001b[0m )\n",
      "\u001b[0;31mAttributeError\u001b[0m: 'DataFrameGroupBy' object has no attribute 'Month'"
     ]
    }
   ],
   "source": [
    "guns_demographics = pd.read_csv('LMPD_JuvenilesWithGunsClean_Jan23-Dec23.csv')\n",
    "pd.set_option('display.max_rows', 10)\n",
    "guns_demographics.value_counts('Agency Name')\n",
    "guns_demographics.shape\n",
    "guns_demographics = guns_demographics.drop(columns=['Agency Name', 'Gender', 'Race', 'Ethnicity', 'Charges Classification','Arrest Type'])\n",
    "guns_demographics\n"
   ]
  },
  {
   "cell_type": "code",
   "execution_count": 127,
   "metadata": {},
   "outputs": [
    {
     "ename": "AttributeError",
     "evalue": "'DataFrameGroupBy' object has no attribute 'Month'",
     "output_type": "error",
     "traceback": [
      "\u001b[0;31m---------------------------------------------------------------------------\u001b[0m",
      "\u001b[0;31mAttributeError\u001b[0m                            Traceback (most recent call last)",
      "Cell \u001b[0;32mIn[127], line 4\u001b[0m\n\u001b[1;32m      1\u001b[0m \u001b[38;5;66;03m#Understanding the different charges in the kids arrested for gun possession \u001b[39;00m\n\u001b[1;32m      2\u001b[0m pd\u001b[38;5;241m.\u001b[39mset_option(\u001b[38;5;124m'\u001b[39m\u001b[38;5;124mdisplay.max_rows\u001b[39m\u001b[38;5;124m'\u001b[39m, \u001b[38;5;241m20\u001b[39m)\n\u001b[0;32m----> 4\u001b[0m \u001b[43mguns_demographics\u001b[49m\u001b[38;5;241;43m.\u001b[39;49m\u001b[43mgroupby\u001b[49m\u001b[43m(\u001b[49m\u001b[38;5;124;43m'\u001b[39;49m\u001b[38;5;124;43mAge\u001b[39;49m\u001b[38;5;124;43m'\u001b[39;49m\u001b[43m)\u001b[49m\u001b[38;5;241;43m.\u001b[39;49m\u001b[43mMonth\u001b[49m\u001b[38;5;241m.\u001b[39mvalue_counts()\n",
      "File \u001b[0;32m/Library/Frameworks/Python.framework/Versions/3.12/lib/python3.12/site-packages/pandas/core/groupby/groupby.py:1363\u001b[0m, in \u001b[0;36mGroupBy.__getattr__\u001b[0;34m(self, attr)\u001b[0m\n\u001b[1;32m   1360\u001b[0m \u001b[38;5;28;01mif\u001b[39;00m attr \u001b[38;5;129;01min\u001b[39;00m \u001b[38;5;28mself\u001b[39m\u001b[38;5;241m.\u001b[39mobj:\n\u001b[1;32m   1361\u001b[0m     \u001b[38;5;28;01mreturn\u001b[39;00m \u001b[38;5;28mself\u001b[39m[attr]\n\u001b[0;32m-> 1363\u001b[0m \u001b[38;5;28;01mraise\u001b[39;00m \u001b[38;5;167;01mAttributeError\u001b[39;00m(\n\u001b[1;32m   1364\u001b[0m     \u001b[38;5;124mf\u001b[39m\u001b[38;5;124m\"\u001b[39m\u001b[38;5;124m'\u001b[39m\u001b[38;5;132;01m{\u001b[39;00m\u001b[38;5;28mtype\u001b[39m(\u001b[38;5;28mself\u001b[39m)\u001b[38;5;241m.\u001b[39m\u001b[38;5;18m__name__\u001b[39m\u001b[38;5;132;01m}\u001b[39;00m\u001b[38;5;124m'\u001b[39m\u001b[38;5;124m object has no attribute \u001b[39m\u001b[38;5;124m'\u001b[39m\u001b[38;5;132;01m{\u001b[39;00mattr\u001b[38;5;132;01m}\u001b[39;00m\u001b[38;5;124m'\u001b[39m\u001b[38;5;124m\"\u001b[39m\n\u001b[1;32m   1365\u001b[0m )\n",
      "\u001b[0;31mAttributeError\u001b[0m: 'DataFrameGroupBy' object has no attribute 'Month'"
     ]
    }
   ],
   "source": [
    "#Understanding the different charges in the kids arrested for gun possession \n",
    "pd.set_option('display.max_rows', 20)\n",
    "\n"
   ]
  },
  {
   "cell_type": "code",
   "execution_count": null,
   "metadata": {},
   "outputs": [],
   "source": [
    "teen_data_charges = teen_data.drop(columns=['Charges Sequence #'])\n",
    "teen_data_charges"
   ]
  },
  {
   "cell_type": "code",
   "execution_count": null,
   "metadata": {},
   "outputs": [],
   "source": [
    "guns_demographics.Charges.value_counts()"
   ]
  },
  {
   "cell_type": "code",
   "execution_count": null,
   "metadata": {},
   "outputs": [],
   "source": [
    "#Key words in guns_demographics charges: 'HANDGUN' 'FIREARM' 'WEAPON' \n",
    "\n"
   ]
  },
  {
   "cell_type": "code",
   "execution_count": 129,
   "metadata": {},
   "outputs": [
    {
     "data": {
      "text/html": [
       "<div>\n",
       "<style scoped>\n",
       "    .dataframe tbody tr th:only-of-type {\n",
       "        vertical-align: middle;\n",
       "    }\n",
       "\n",
       "    .dataframe tbody tr th {\n",
       "        vertical-align: top;\n",
       "    }\n",
       "\n",
       "    .dataframe thead th {\n",
       "        text-align: right;\n",
       "    }\n",
       "</style>\n",
       "<table border=\"1\" class=\"dataframe\">\n",
       "  <thead>\n",
       "    <tr style=\"text-align: right;\">\n",
       "      <th></th>\n",
       "      <th>Date</th>\n",
       "      <th>Charges</th>\n",
       "      <th>Age</th>\n",
       "    </tr>\n",
       "  </thead>\n",
       "  <tbody>\n",
       "    <tr>\n",
       "      <th>34</th>\n",
       "      <td>2023-02-20</td>\n",
       "      <td>POSS HANDGUN BY MINOR 2ND OR &gt; 527.100 52205 520</td>\n",
       "      <td>14</td>\n",
       "    </tr>\n",
       "    <tr>\n",
       "      <th>329</th>\n",
       "      <td>2023-02-20</td>\n",
       "      <td>POSS HANDGUN BY MINOR 1ST OFFENSE 527.100 5220...</td>\n",
       "      <td>17</td>\n",
       "    </tr>\n",
       "    <tr>\n",
       "      <th>347</th>\n",
       "      <td>2023-02-22</td>\n",
       "      <td>RECEIVING STOLEN PROPERTY (FIREARM) 514.110 28...</td>\n",
       "      <td>17</td>\n",
       "    </tr>\n",
       "    <tr>\n",
       "      <th>348</th>\n",
       "      <td>2023-02-22</td>\n",
       "      <td>POSS HANDGUN BY MINOR 1ST OFFENSE 527.100 5220...</td>\n",
       "      <td>17</td>\n",
       "    </tr>\n",
       "    <tr>\n",
       "      <th>382</th>\n",
       "      <td>2023-04-12</td>\n",
       "      <td>POSS HANDGUN BY MINOR 1ST OFFENSE 527.100 5220...</td>\n",
       "      <td>15</td>\n",
       "    </tr>\n",
       "    <tr>\n",
       "      <th>...</th>\n",
       "      <td>...</td>\n",
       "      <td>...</td>\n",
       "      <td>...</td>\n",
       "    </tr>\n",
       "    <tr>\n",
       "      <th>4300</th>\n",
       "      <td>2023-03-03</td>\n",
       "      <td>POSS HANDGUN BY MINOR 1ST OFFENSE 527.100 5220...</td>\n",
       "      <td>17</td>\n",
       "    </tr>\n",
       "    <tr>\n",
       "      <th>4302</th>\n",
       "      <td>2023-03-03</td>\n",
       "      <td>POSS HANDGUN BY MINOR 1ST OFFENSE 527.100 5220...</td>\n",
       "      <td>17</td>\n",
       "    </tr>\n",
       "    <tr>\n",
       "      <th>4322</th>\n",
       "      <td>2023-01-10</td>\n",
       "      <td>POSS HANDGUN BY MINOR 1ST OFFENSE 527.100 5220...</td>\n",
       "      <td>16</td>\n",
       "    </tr>\n",
       "    <tr>\n",
       "      <th>4340</th>\n",
       "      <td>2023-08-01</td>\n",
       "      <td>POSS HANDGUN BY MINOR 1ST OFFENSE 527.100 5220...</td>\n",
       "      <td>15</td>\n",
       "    </tr>\n",
       "    <tr>\n",
       "      <th>4344</th>\n",
       "      <td>2023-09-17</td>\n",
       "      <td>POSS HANDGUN BY MINOR 1ST OFFENSE 527.100 5220...</td>\n",
       "      <td>17</td>\n",
       "    </tr>\n",
       "  </tbody>\n",
       "</table>\n",
       "<p>221 rows × 3 columns</p>\n",
       "</div>"
      ],
      "text/plain": [
       "            Date                                            Charges  Age\n",
       "34    2023-02-20   POSS HANDGUN BY MINOR 2ND OR > 527.100 52205 520   14\n",
       "329   2023-02-20  POSS HANDGUN BY MINOR 1ST OFFENSE 527.100 5220...   17\n",
       "347   2023-02-22  RECEIVING STOLEN PROPERTY (FIREARM) 514.110 28...   17\n",
       "348   2023-02-22  POSS HANDGUN BY MINOR 1ST OFFENSE 527.100 5220...   17\n",
       "382   2023-04-12  POSS HANDGUN BY MINOR 1ST OFFENSE 527.100 5220...   15\n",
       "...          ...                                                ...  ...\n",
       "4300  2023-03-03  POSS HANDGUN BY MINOR 1ST OFFENSE 527.100 5220...   17\n",
       "4302  2023-03-03  POSS HANDGUN BY MINOR 1ST OFFENSE 527.100 5220...   17\n",
       "4322  2023-01-10  POSS HANDGUN BY MINOR 1ST OFFENSE 527.100 5220...   16\n",
       "4340  2023-08-01  POSS HANDGUN BY MINOR 1ST OFFENSE 527.100 5220...   15\n",
       "4344  2023-09-17  POSS HANDGUN BY MINOR 1ST OFFENSE 527.100 5220...   17\n",
       "\n",
       "[221 rows x 3 columns]"
      ]
     },
     "execution_count": 129,
     "metadata": {},
     "output_type": "execute_result"
    }
   ],
   "source": [
    "\n",
    "#This has the filter to show where the rise in gun violence. Need columns, date, crime and age. \n",
    "\n",
    "handgun = ['POSS HANDGUN BY MINOR 1ST OFFENSE 527.100 52206 520','RECEIVING STOLEN PROPERTY (FIREARM) 514.110 28020 280', 'CARRYING A CONCEALED DEADLY WEAPON 527.020 01501 520','POSS HANDGUN BY MINOR 2ND OR > 527.100 52205 520', 'TBUT OR DISP FIREARM 514.030 23100 23H', 'POSSESSION OF HANDGUN BY CONVICTED FELON 527.040 52197 520','UNLAWFUL POSSESSION OF WEAPON ON SCHOOL PROPERTY 527.070 52204 520', 'UNLAWFULLY PROV/PERMIT MINOR TO POSSESS HANDGUN 527.110 52203 520','USING RESTRICTED AMMO DURING A FELONY (NO SHOTS) 527.080(2)(A) 02549 520', 'POSSESSION OF DEFACED FIREARM 527.050 01504 520','POSSESSION OF FIREARM BY CONVICTED FELON 527.040 52196 520']\n",
    "teen_gun_filter_df= teen_data[teen_data['Charges'].isin(handgun)]\n",
    "\n",
    "\n",
    "dates_teen_full_df = teen_gun_filter_df[(teen_gun_filter_df['Date'] > '2023-01-01') & (teen_gun_filter_df['Date'] < '2023-12-31')]\n",
    "dates_teen_full_df\n",
    "\n",
    "\n"
   ]
  },
  {
   "cell_type": "code",
   "execution_count": null,
   "metadata": {},
   "outputs": [],
   "source": [
    "##Building final dataframe \n",
    "\n",
    "#age is rows \n",
    "#months is columns \n",
    "#data is date and total number of charges vs. gun charges \n",
    " "
   ]
  },
  {
   "cell_type": "code",
   "execution_count": null,
   "metadata": {},
   "outputs": [],
   "source": [
    "\n",
    "##filter year in data and match data set time frames to show rise in crimes with guns in teens by month\n",
    "import pandas as pd\n",
    "from datetime import datetime\n",
    "\n",
    "month_dict = {1:'January', \n",
    "              2:'February', \n",
    "              3: 'March',\n",
    "              4: 'April',\n",
    "              5: 'May', \n",
    "              6: 'June',\n",
    "              7: 'July',\n",
    "              8: 'August',\n",
    "              9: 'September', \n",
    "              10: 'October',\n",
    "              11: 'November',\n",
    "              12: 'December'}\n",
    "month_name = pd.Series([month_dict], name = 'Months')\n",
    "\n",
    "\n",
    "teen_date_values = pd.DatetimeIndex(teen_data[\"Date\"])\n",
    "\n",
    "teen_data['Year'] = teen_date_values.year\n",
    "teen_data['Month'] = teen_date_values.month\n",
    "\n",
    "teen_data['Month'] = teen_data['Month'].map(month_dict)\n",
    "\n",
    "total_arrest_month = teen_data['Month'].value_counts()\n",
    "\n",
    "        \n",
    "\n",
    "\n",
    "    \n",
    " \n"
   ]
  },
  {
   "cell_type": "code",
   "execution_count": null,
   "metadata": {},
   "outputs": [],
   "source": [
    "Dates_to_months = pd.DataFrame({'January': ['2023-01-01', '2023-01-02', '2023-01-03', '2023-01-04', '2023-01-05', '2023-01-06', '2023-01-07', '2023-01-08', '2023-01-09', '2023-01-10', '2023-01-11', '2023-01-12', '2023-01-13', '2023-01-14', '2023-01-15', '2023-01-16', '2023-01-17','2023-01-18', '2023-01-19','2023-01-20','2023-01-21', '2023-01-22', '2023-01-23', '2023-01-24', '2023-01-25', '2023-01-26', '2023-01-27', '2023-01-28', '2023-01-29', '2023-01-30', '2023-01-31'],})"
   ]
  },
  {
   "cell_type": "code",
   "execution_count": null,
   "metadata": {},
   "outputs": [],
   "source": [
    "\n",
    "\n",
    "\n"
   ]
  },
  {
   "cell_type": "code",
   "execution_count": 137,
   "metadata": {},
   "outputs": [],
   "source": [
    "import pandas as pd\n",
    "from datetime import datetime\n",
    "\n",
    "month_dict = {1:'January', \n",
    "              2:'February', \n",
    "              3: 'March',\n",
    "              4: 'April',\n",
    "              5: 'May', \n",
    "              6: 'June',\n",
    "              7: 'July',\n",
    "              8: 'August',\n",
    "              9: 'September', \n",
    "              10: 'October',\n",
    "              11: 'November',\n",
    "              12: 'December'}\n",
    "month_name = pd.Series([month_dict], name = 'Months')\n",
    "\n",
    "\n",
    "gun_date_values = pd.DatetimeIndex(guns_demographics['Date'])\n",
    "\n",
    "guns_demographics['Year'] = gun_date_values.year\n",
    "guns_demographics['Month'] = gun_date_values.month\n",
    "\n",
    "guns_demographics['Month'] = guns_demographics['Month'].map(month_dict)\n",
    "\n",
    "\n",
    "\n",
    "age_groups = [13, 14, 15, 16, 17]\n",
    "\n"
   ]
  },
  {
   "cell_type": "code",
   "execution_count": null,
   "metadata": {},
   "outputs": [],
   "source": [
    "guns_demographics.sort_index()"
   ]
  },
  {
   "cell_type": "code",
   "execution_count": null,
   "metadata": {},
   "outputs": [],
   "source": [
    "\n",
    "#list_of_months = ['January', 'February', 'March','April','May', 'June','July','August', 'September', 'October','November', 'December']\n",
    "#pd.DataFrame({[age_groups:[13, 14, 15, 16, 17], [list_of_months : ['January', 'February', 'March','April','May', 'June','July','August', 'September', 'October','November', 'December']] ]})\n",
    "\n"
   ]
  },
  {
   "cell_type": "code",
   "execution_count": null,
   "metadata": {},
   "outputs": [],
   "source": [
    "teen_data.Age.value_counts()"
   ]
  },
  {
   "cell_type": "code",
   "execution_count": null,
   "metadata": {},
   "outputs": [],
   "source": [
    "guns_demographics.Age.value_counts()"
   ]
  },
  {
   "cell_type": "code",
   "execution_count": null,
   "metadata": {},
   "outputs": [],
   "source": []
  },
  {
   "cell_type": "code",
   "execution_count": 133,
   "metadata": {},
   "outputs": [
    {
     "data": {
      "text/html": [
       "<div>\n",
       "<style scoped>\n",
       "    .dataframe tbody tr th:only-of-type {\n",
       "        vertical-align: middle;\n",
       "    }\n",
       "\n",
       "    .dataframe tbody tr th {\n",
       "        vertical-align: top;\n",
       "    }\n",
       "\n",
       "    .dataframe thead th {\n",
       "        text-align: right;\n",
       "    }\n",
       "</style>\n",
       "<table border=\"1\" class=\"dataframe\">\n",
       "  <thead>\n",
       "    <tr style=\"text-align: right;\">\n",
       "      <th></th>\n",
       "      <th>Date</th>\n",
       "      <th>Charges</th>\n",
       "      <th>Age</th>\n",
       "    </tr>\n",
       "  </thead>\n",
       "  <tbody>\n",
       "    <tr>\n",
       "      <th>0</th>\n",
       "      <td>2023-03-18</td>\n",
       "      <td>INVOLUNTARY HOSPITALIZATION OF MENTALLY ILL - ...</td>\n",
       "      <td>17</td>\n",
       "    </tr>\n",
       "    <tr>\n",
       "      <th>1</th>\n",
       "      <td>2023-03-10</td>\n",
       "      <td>ROBBERY - 1ST DEGREE 515.020 12002 120</td>\n",
       "      <td>15</td>\n",
       "    </tr>\n",
       "    <tr>\n",
       "      <th>2</th>\n",
       "      <td>2023-01-06</td>\n",
       "      <td>CRIMINAL MISCHIEF - 1ST DEGREE 512.020 01401 290</td>\n",
       "      <td>13</td>\n",
       "    </tr>\n",
       "    <tr>\n",
       "      <th>3</th>\n",
       "      <td>2023-07-16</td>\n",
       "      <td>ASSAULT-3RD DEGREE-POLICE/PROBATION OFFICER-ID...</td>\n",
       "      <td>14</td>\n",
       "    </tr>\n",
       "    <tr>\n",
       "      <th>4</th>\n",
       "      <td>2023-07-16</td>\n",
       "      <td>MENACING 508.050 00803 13C</td>\n",
       "      <td>14</td>\n",
       "    </tr>\n",
       "    <tr>\n",
       "      <th>...</th>\n",
       "      <td>...</td>\n",
       "      <td>...</td>\n",
       "      <td>...</td>\n",
       "    </tr>\n",
       "    <tr>\n",
       "      <th>4345</th>\n",
       "      <td>2023-09-17</td>\n",
       "      <td>NO OPERATORS/MOPED LICENSE 186.410(1) 00380 999</td>\n",
       "      <td>17</td>\n",
       "    </tr>\n",
       "    <tr>\n",
       "      <th>4346</th>\n",
       "      <td>2023-09-17</td>\n",
       "      <td>NO OR EXPIRED REGISTRATION PLATES 186.170 0042...</td>\n",
       "      <td>17</td>\n",
       "    </tr>\n",
       "    <tr>\n",
       "      <th>4347</th>\n",
       "      <td>2023-09-17</td>\n",
       "      <td>RECEIVING STOLEN PROPERTY $10,000 OR MORE 514....</td>\n",
       "      <td>17</td>\n",
       "    </tr>\n",
       "    <tr>\n",
       "      <th>4348</th>\n",
       "      <td>2023-01-05</td>\n",
       "      <td>FAILURE TO APPEAR, CITATION FOR MISDEMEANOR 43...</td>\n",
       "      <td>14</td>\n",
       "    </tr>\n",
       "    <tr>\n",
       "      <th>4349</th>\n",
       "      <td>2023-10-31</td>\n",
       "      <td>RECEIVING STOLEN PROPERTY $1,000 &lt; $10,000 514...</td>\n",
       "      <td>16</td>\n",
       "    </tr>\n",
       "  </tbody>\n",
       "</table>\n",
       "<p>2204 rows × 3 columns</p>\n",
       "</div>"
      ],
      "text/plain": [
       "            Date                                            Charges  Age\n",
       "0     2023-03-18  INVOLUNTARY HOSPITALIZATION OF MENTALLY ILL - ...   17\n",
       "1     2023-03-10             ROBBERY - 1ST DEGREE 515.020 12002 120   15\n",
       "2     2023-01-06   CRIMINAL MISCHIEF - 1ST DEGREE 512.020 01401 290   13\n",
       "3     2023-07-16  ASSAULT-3RD DEGREE-POLICE/PROBATION OFFICER-ID...   14\n",
       "4     2023-07-16                         MENACING 508.050 00803 13C   14\n",
       "...          ...                                                ...  ...\n",
       "4345  2023-09-17    NO OPERATORS/MOPED LICENSE 186.410(1) 00380 999   17\n",
       "4346  2023-09-17  NO OR EXPIRED REGISTRATION PLATES 186.170 0042...   17\n",
       "4347  2023-09-17  RECEIVING STOLEN PROPERTY $10,000 OR MORE 514....   17\n",
       "4348  2023-01-05  FAILURE TO APPEAR, CITATION FOR MISDEMEANOR 43...   14\n",
       "4349  2023-10-31  RECEIVING STOLEN PROPERTY $1,000 < $10,000 514...   16\n",
       "\n",
       "[2204 rows x 3 columns]"
      ]
     },
     "execution_count": 133,
     "metadata": {},
     "output_type": "execute_result"
    }
   ],
   "source": [
    "dates_teen_full_df = teen_data[(teen_data['Date'] > '2023-01-01') & (teen_data['Date'] < '2023-12-31')]\n",
    "dates_teen_full_df\n",
    "#stolen_charges_dates =  dates_teen_full_df[dates_teen_full_df['Charges'] == 'RECEIVING STOLEN PROPERTY $10,000 OR MORE 514.110(3)(c) 28014 280']\n",
    "#teen_charges_dates = dates_teen_full_df[dates_teen_full_df['Charges'] == 'POSS HANDGUN BY MINOR 1ST OFFENSE 527.100 52206 520']\n"
   ]
  },
  {
   "cell_type": "code",
   "execution_count": 139,
   "metadata": {},
   "outputs": [
    {
     "data": {
      "text/plain": [
       "Month      Age\n",
       "April      15     6\n",
       "           16     5\n",
       "           17     4\n",
       "           14     1\n",
       "August     17     7\n",
       "                 ..\n",
       "October    13     1\n",
       "September  17     8\n",
       "           16     7\n",
       "           15     6\n",
       "           14     1\n",
       "Name: count, Length: 46, dtype: int64"
      ]
     },
     "execution_count": 139,
     "metadata": {},
     "output_type": "execute_result"
    }
   ],
   "source": [
    "dates_gun_full_df = guns_demographics[(guns_demographics['Date'] > '2023-01-01') & (guns_demographics['Date'] < '2023-12-31')]\n",
    "dates_gun_full_df.groupby('Month').Age.value_counts()\n",
    "#poss_charges_dates = dates_gun_full_df[dates_gun_full_df['Charges'] == 'POSS HANDGUN BY MINOR 1ST OFFENSE 527.100 52206 520']\n"
   ]
  },
  {
   "cell_type": "code",
   "execution_count": null,
   "metadata": {},
   "outputs": [],
   "source": [
    "teen_data.Charges.value_counts()"
   ]
  },
  {
   "cell_type": "code",
   "execution_count": null,
   "metadata": {},
   "outputs": [],
   "source": []
  },
  {
   "cell_type": "code",
   "execution_count": null,
   "metadata": {},
   "outputs": [],
   "source": [
    "import pandas as pd \n",
    "import numpy as np\n",
    "\n",
    "teen_final = dates_teen_full_df\n",
    "gun_final = dates_gun_full_df\n",
    "\n",
    " \n",
    "gun_poss = pd.DataFrame({'Gun Possession': gun_final})\n",
    "teen_full =pd.DataFrame({'Teen Crime Totals': teen_final})\n",
    "\n",
    "\n",
    " \n"
   ]
  },
  {
   "cell_type": "code",
   "execution_count": null,
   "metadata": {},
   "outputs": [],
   "source": [
    "teen_full"
   ]
  },
  {
   "cell_type": "code",
   "execution_count": null,
   "metadata": {},
   "outputs": [],
   "source": [
    "gun_poss"
   ]
  },
  {
   "cell_type": "code",
   "execution_count": null,
   "metadata": {},
   "outputs": [],
   "source": []
  }
 ],
 "metadata": {
  "kernelspec": {
   "display_name": "Python 3",
   "language": "python",
   "name": "python3"
  },
  "language_info": {
   "codemirror_mode": {
    "name": "ipython",
    "version": 3
   },
   "file_extension": ".py",
   "mimetype": "text/x-python",
   "name": "python",
   "nbconvert_exporter": "python",
   "pygments_lexer": "ipython3",
   "version": "3.12.2"
  }
 },
 "nbformat": 4,
 "nbformat_minor": 2
}
