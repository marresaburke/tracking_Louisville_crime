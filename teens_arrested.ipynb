{
 "cells": [
  {
   "cell_type": "code",
   "execution_count": 1,
   "metadata": {},
   "outputs": [],
   "source": [
    "import pandas as pd \n",
    "import numpy as np\n"
   ]
  },
  {
   "cell_type": "code",
   "execution_count": 2,
   "metadata": {},
   "outputs": [
    {
     "data": {
      "text/html": [
       "<div>\n",
       "<style scoped>\n",
       "    .dataframe tbody tr th:only-of-type {\n",
       "        vertical-align: middle;\n",
       "    }\n",
       "\n",
       "    .dataframe tbody tr th {\n",
       "        vertical-align: top;\n",
       "    }\n",
       "\n",
       "    .dataframe thead th {\n",
       "        text-align: right;\n",
       "    }\n",
       "</style>\n",
       "<table border=\"1\" class=\"dataframe\">\n",
       "  <thead>\n",
       "    <tr style=\"text-align: right;\">\n",
       "      <th></th>\n",
       "      <th>Date</th>\n",
       "      <th>Charges</th>\n",
       "      <th>Charges Sequence #</th>\n",
       "      <th>Arrest #</th>\n",
       "      <th>Age</th>\n",
       "    </tr>\n",
       "  </thead>\n",
       "  <tbody>\n",
       "    <tr>\n",
       "      <th>0</th>\n",
       "      <td>2023-03-18</td>\n",
       "      <td>INVOLUNTARY HOSPITALIZATION OF MENTALLY ILL - ...</td>\n",
       "      <td>1.0</td>\n",
       "      <td>23018261</td>\n",
       "      <td>17</td>\n",
       "    </tr>\n",
       "    <tr>\n",
       "      <th>1</th>\n",
       "      <td>2023-03-10</td>\n",
       "      <td>ROBBERY - 1ST DEGREE 515.020 12002 120</td>\n",
       "      <td>1.0</td>\n",
       "      <td>9426220-1</td>\n",
       "      <td>15</td>\n",
       "    </tr>\n",
       "    <tr>\n",
       "      <th>2</th>\n",
       "      <td>2023-01-06</td>\n",
       "      <td>CRIMINAL MISCHIEF - 1ST DEGREE 512.020 01401 290</td>\n",
       "      <td>1.0</td>\n",
       "      <td>DM90637-1</td>\n",
       "      <td>13</td>\n",
       "    </tr>\n",
       "    <tr>\n",
       "      <th>3</th>\n",
       "      <td>2023-07-16</td>\n",
       "      <td>ASSAULT-3RD DEGREE-POLICE/PROBATION OFFICER-ID...</td>\n",
       "      <td>2.0</td>\n",
       "      <td>DQ55337</td>\n",
       "      <td>14</td>\n",
       "    </tr>\n",
       "    <tr>\n",
       "      <th>4</th>\n",
       "      <td>2023-07-16</td>\n",
       "      <td>MENACING 508.050 00803 13C</td>\n",
       "      <td>1.0</td>\n",
       "      <td>DQ55337</td>\n",
       "      <td>14</td>\n",
       "    </tr>\n",
       "    <tr>\n",
       "      <th>...</th>\n",
       "      <td>...</td>\n",
       "      <td>...</td>\n",
       "      <td>...</td>\n",
       "      <td>...</td>\n",
       "      <td>...</td>\n",
       "    </tr>\n",
       "    <tr>\n",
       "      <th>4345</th>\n",
       "      <td>2023-09-17</td>\n",
       "      <td>NO OPERATORS/MOPED LICENSE 186.410(1) 00380 999</td>\n",
       "      <td>2.0</td>\n",
       "      <td>P463521</td>\n",
       "      <td>17</td>\n",
       "    </tr>\n",
       "    <tr>\n",
       "      <th>4346</th>\n",
       "      <td>2023-09-17</td>\n",
       "      <td>NO OR EXPIRED REGISTRATION PLATES 186.170 0042...</td>\n",
       "      <td>3.0</td>\n",
       "      <td>P463521</td>\n",
       "      <td>17</td>\n",
       "    </tr>\n",
       "    <tr>\n",
       "      <th>4347</th>\n",
       "      <td>2023-09-17</td>\n",
       "      <td>RECEIVING STOLEN PROPERTY $10,000 OR MORE 514....</td>\n",
       "      <td>1.0</td>\n",
       "      <td>P463522</td>\n",
       "      <td>17</td>\n",
       "    </tr>\n",
       "    <tr>\n",
       "      <th>4348</th>\n",
       "      <td>2023-01-05</td>\n",
       "      <td>FAILURE TO APPEAR, CITATION FOR MISDEMEANOR 43...</td>\n",
       "      <td>1.0</td>\n",
       "      <td>P469742-1</td>\n",
       "      <td>14</td>\n",
       "    </tr>\n",
       "    <tr>\n",
       "      <th>4349</th>\n",
       "      <td>2023-10-31</td>\n",
       "      <td>RECEIVING STOLEN PROPERTY $1,000 &lt; $10,000 514...</td>\n",
       "      <td>1.0</td>\n",
       "      <td>P958498</td>\n",
       "      <td>16</td>\n",
       "    </tr>\n",
       "  </tbody>\n",
       "</table>\n",
       "<p>4350 rows × 5 columns</p>\n",
       "</div>"
      ],
      "text/plain": [
       "            Date                                            Charges  \\\n",
       "0     2023-03-18  INVOLUNTARY HOSPITALIZATION OF MENTALLY ILL - ...   \n",
       "1     2023-03-10             ROBBERY - 1ST DEGREE 515.020 12002 120   \n",
       "2     2023-01-06   CRIMINAL MISCHIEF - 1ST DEGREE 512.020 01401 290   \n",
       "3     2023-07-16  ASSAULT-3RD DEGREE-POLICE/PROBATION OFFICER-ID...   \n",
       "4     2023-07-16                         MENACING 508.050 00803 13C   \n",
       "...          ...                                                ...   \n",
       "4345  2023-09-17    NO OPERATORS/MOPED LICENSE 186.410(1) 00380 999   \n",
       "4346  2023-09-17  NO OR EXPIRED REGISTRATION PLATES 186.170 0042...   \n",
       "4347  2023-09-17  RECEIVING STOLEN PROPERTY $10,000 OR MORE 514....   \n",
       "4348  2023-01-05  FAILURE TO APPEAR, CITATION FOR MISDEMEANOR 43...   \n",
       "4349  2023-10-31  RECEIVING STOLEN PROPERTY $1,000 < $10,000 514...   \n",
       "\n",
       "      Charges Sequence #   Arrest #  Age  \n",
       "0                    1.0   23018261   17  \n",
       "1                    1.0  9426220-1   15  \n",
       "2                    1.0  DM90637-1   13  \n",
       "3                    2.0    DQ55337   14  \n",
       "4                    1.0    DQ55337   14  \n",
       "...                  ...        ...  ...  \n",
       "4345                 2.0    P463521   17  \n",
       "4346                 3.0    P463521   17  \n",
       "4347                 1.0    P463522   17  \n",
       "4348                 1.0  P469742-1   14  \n",
       "4349                 1.0    P958498   16  \n",
       "\n",
       "[4350 rows x 5 columns]"
      ]
     },
     "execution_count": 2,
     "metadata": {},
     "output_type": "execute_result"
    }
   ],
   "source": [
    "teen_data = pd.read_csv('LMPD_CleanedData_YouthCrimeFull_2023-2024.csv')\n",
    "teen_data"
   ]
  },
  {
   "cell_type": "code",
   "execution_count": 6,
   "metadata": {},
   "outputs": [
    {
     "data": {
      "text/html": [
       "<div>\n",
       "<style scoped>\n",
       "    .dataframe tbody tr th:only-of-type {\n",
       "        vertical-align: middle;\n",
       "    }\n",
       "\n",
       "    .dataframe tbody tr th {\n",
       "        vertical-align: top;\n",
       "    }\n",
       "\n",
       "    .dataframe thead th {\n",
       "        text-align: right;\n",
       "    }\n",
       "</style>\n",
       "<table border=\"1\" class=\"dataframe\">\n",
       "  <thead>\n",
       "    <tr style=\"text-align: right;\">\n",
       "      <th></th>\n",
       "      <th>Agency Name</th>\n",
       "      <th>Date</th>\n",
       "      <th>Age</th>\n",
       "      <th>Gender</th>\n",
       "      <th>Race</th>\n",
       "      <th>Ethnicity</th>\n",
       "      <th>Charges Classification</th>\n",
       "      <th>Charges</th>\n",
       "      <th>Arrest Type</th>\n",
       "    </tr>\n",
       "  </thead>\n",
       "  <tbody>\n",
       "    <tr>\n",
       "      <th>0</th>\n",
       "      <td>Louisville Metro Police Department</td>\n",
       "      <td>2022-01-05</td>\n",
       "      <td>16</td>\n",
       "      <td>Male</td>\n",
       "      <td>Black</td>\n",
       "      <td>Not Hispanic Or Latino</td>\n",
       "      <td>46 WPNS LAW VIOLATION</td>\n",
       "      <td>POSS HANDGUN BY MINOR 2ND OR &gt; 527.100 52205 520</td>\n",
       "      <td>Taken Into Custody</td>\n",
       "    </tr>\n",
       "    <tr>\n",
       "      <th>1</th>\n",
       "      <td>Louisville Metro Police Department</td>\n",
       "      <td>2022-01-14</td>\n",
       "      <td>14</td>\n",
       "      <td>Male</td>\n",
       "      <td>Black</td>\n",
       "      <td>Not Hispanic Or Latino</td>\n",
       "      <td>46 WPNS LAW VIOLATION</td>\n",
       "      <td>POSS HANDGUN BY MINOR 1ST OFFENSE 527.100 5220...</td>\n",
       "      <td>Taken Into Custody</td>\n",
       "    </tr>\n",
       "    <tr>\n",
       "      <th>2</th>\n",
       "      <td>Louisville Metro Police Department</td>\n",
       "      <td>2022-01-14</td>\n",
       "      <td>15</td>\n",
       "      <td>Male</td>\n",
       "      <td>Black</td>\n",
       "      <td>Not Hispanic Or Latino</td>\n",
       "      <td>46 WPNS LAW VIOLATION</td>\n",
       "      <td>POSS HANDGUN BY MINOR 1ST OFFENSE 527.100 5220...</td>\n",
       "      <td>Taken Into Custody</td>\n",
       "    </tr>\n",
       "    <tr>\n",
       "      <th>3</th>\n",
       "      <td>Louisville Metro Police Department</td>\n",
       "      <td>2022-01-14</td>\n",
       "      <td>17</td>\n",
       "      <td>Male</td>\n",
       "      <td>Black</td>\n",
       "      <td>Not Hispanic Or Latino</td>\n",
       "      <td>46 WPNS LAW VIOLATION</td>\n",
       "      <td>POSS HANDGUN BY MINOR 2ND OR &gt; 527.100 52205 520</td>\n",
       "      <td>Taken Into Custody</td>\n",
       "    </tr>\n",
       "    <tr>\n",
       "      <th>4</th>\n",
       "      <td>Louisville Metro Police Department</td>\n",
       "      <td>2022-01-14</td>\n",
       "      <td>17</td>\n",
       "      <td>Male</td>\n",
       "      <td>Black</td>\n",
       "      <td>Not Hispanic Or Latino</td>\n",
       "      <td>46 WPNS LAW VIOLATION</td>\n",
       "      <td>UNLAWFULLY PROV/PERMIT MINOR TO POSSESS HANDGU...</td>\n",
       "      <td>Taken Into Custody</td>\n",
       "    </tr>\n",
       "    <tr>\n",
       "      <th>...</th>\n",
       "      <td>...</td>\n",
       "      <td>...</td>\n",
       "      <td>...</td>\n",
       "      <td>...</td>\n",
       "      <td>...</td>\n",
       "      <td>...</td>\n",
       "      <td>...</td>\n",
       "      <td>...</td>\n",
       "      <td>...</td>\n",
       "    </tr>\n",
       "    <tr>\n",
       "      <th>485</th>\n",
       "      <td>Louisville Metro Police Department</td>\n",
       "      <td>2023-12-14</td>\n",
       "      <td>15</td>\n",
       "      <td>Male</td>\n",
       "      <td>Black</td>\n",
       "      <td>Not Hispanic Or Latino</td>\n",
       "      <td>46 WPNS LAW VIOLATION</td>\n",
       "      <td>CARRYING A CONCEALED DEADLY WEAPON 527.020 015...</td>\n",
       "      <td>On View Arrest</td>\n",
       "    </tr>\n",
       "    <tr>\n",
       "      <th>486</th>\n",
       "      <td>Louisville Metro Police Department</td>\n",
       "      <td>2023-12-14</td>\n",
       "      <td>15</td>\n",
       "      <td>Male</td>\n",
       "      <td>Black</td>\n",
       "      <td>Not Hispanic Or Latino</td>\n",
       "      <td>46 WPNS LAW VIOLATION</td>\n",
       "      <td>POSS HANDGUN BY MINOR 1ST OFFENSE 527.100 5220...</td>\n",
       "      <td>On View Arrest</td>\n",
       "    </tr>\n",
       "    <tr>\n",
       "      <th>487</th>\n",
       "      <td>Louisville Metro Police Department</td>\n",
       "      <td>2023-12-15</td>\n",
       "      <td>16</td>\n",
       "      <td>Male</td>\n",
       "      <td>Black</td>\n",
       "      <td>Not Hispanic Or Latino</td>\n",
       "      <td>46 WPNS LAW VIOLATION</td>\n",
       "      <td>POSS HANDGUN BY MINOR 1ST OFFENSE 527.100 5220...</td>\n",
       "      <td>Taken Into Custody</td>\n",
       "    </tr>\n",
       "    <tr>\n",
       "      <th>488</th>\n",
       "      <td>Louisville Metro Police Department</td>\n",
       "      <td>2023-12-17</td>\n",
       "      <td>15</td>\n",
       "      <td>Male</td>\n",
       "      <td>Black</td>\n",
       "      <td>Not Hispanic Or Latino</td>\n",
       "      <td>46 WPNS LAW VIOLATION</td>\n",
       "      <td>POSS HANDGUN BY MINOR 1ST OFFENSE 527.100 5220...</td>\n",
       "      <td>Taken Into Custody</td>\n",
       "    </tr>\n",
       "    <tr>\n",
       "      <th>489</th>\n",
       "      <td>Louisville Metro Police Department</td>\n",
       "      <td>2023-12-20</td>\n",
       "      <td>17</td>\n",
       "      <td>Male</td>\n",
       "      <td>Black</td>\n",
       "      <td>Not Hispanic Or Latino</td>\n",
       "      <td>46 WPNS LAW VIOLATION</td>\n",
       "      <td>POSS HANDGUN BY MINOR 1ST OFFENSE 527.100 5220...</td>\n",
       "      <td>Taken Into Custody</td>\n",
       "    </tr>\n",
       "  </tbody>\n",
       "</table>\n",
       "<p>490 rows × 9 columns</p>\n",
       "</div>"
      ],
      "text/plain": [
       "                            Agency Name        Date  Age Gender   Race  \\\n",
       "0    Louisville Metro Police Department  2022-01-05   16   Male  Black   \n",
       "1    Louisville Metro Police Department  2022-01-14   14   Male  Black   \n",
       "2    Louisville Metro Police Department  2022-01-14   15   Male  Black   \n",
       "3    Louisville Metro Police Department  2022-01-14   17   Male  Black   \n",
       "4    Louisville Metro Police Department  2022-01-14   17   Male  Black   \n",
       "..                                  ...         ...  ...    ...    ...   \n",
       "485  Louisville Metro Police Department  2023-12-14   15   Male  Black   \n",
       "486  Louisville Metro Police Department  2023-12-14   15   Male  Black   \n",
       "487  Louisville Metro Police Department  2023-12-15   16   Male  Black   \n",
       "488  Louisville Metro Police Department  2023-12-17   15   Male  Black   \n",
       "489  Louisville Metro Police Department  2023-12-20   17   Male  Black   \n",
       "\n",
       "                  Ethnicity Charges Classification  \\\n",
       "0    Not Hispanic Or Latino  46 WPNS LAW VIOLATION   \n",
       "1    Not Hispanic Or Latino  46 WPNS LAW VIOLATION   \n",
       "2    Not Hispanic Or Latino  46 WPNS LAW VIOLATION   \n",
       "3    Not Hispanic Or Latino  46 WPNS LAW VIOLATION   \n",
       "4    Not Hispanic Or Latino  46 WPNS LAW VIOLATION   \n",
       "..                      ...                    ...   \n",
       "485  Not Hispanic Or Latino  46 WPNS LAW VIOLATION   \n",
       "486  Not Hispanic Or Latino  46 WPNS LAW VIOLATION   \n",
       "487  Not Hispanic Or Latino  46 WPNS LAW VIOLATION   \n",
       "488  Not Hispanic Or Latino  46 WPNS LAW VIOLATION   \n",
       "489  Not Hispanic Or Latino  46 WPNS LAW VIOLATION   \n",
       "\n",
       "                                               Charges         Arrest Type  \n",
       "0     POSS HANDGUN BY MINOR 2ND OR > 527.100 52205 520  Taken Into Custody  \n",
       "1    POSS HANDGUN BY MINOR 1ST OFFENSE 527.100 5220...  Taken Into Custody  \n",
       "2    POSS HANDGUN BY MINOR 1ST OFFENSE 527.100 5220...  Taken Into Custody  \n",
       "3     POSS HANDGUN BY MINOR 2ND OR > 527.100 52205 520  Taken Into Custody  \n",
       "4    UNLAWFULLY PROV/PERMIT MINOR TO POSSESS HANDGU...  Taken Into Custody  \n",
       "..                                                 ...                 ...  \n",
       "485  CARRYING A CONCEALED DEADLY WEAPON 527.020 015...      On View Arrest  \n",
       "486  POSS HANDGUN BY MINOR 1ST OFFENSE 527.100 5220...      On View Arrest  \n",
       "487  POSS HANDGUN BY MINOR 1ST OFFENSE 527.100 5220...  Taken Into Custody  \n",
       "488  POSS HANDGUN BY MINOR 1ST OFFENSE 527.100 5220...  Taken Into Custody  \n",
       "489  POSS HANDGUN BY MINOR 1ST OFFENSE 527.100 5220...  Taken Into Custody  \n",
       "\n",
       "[490 rows x 9 columns]"
      ]
     },
     "execution_count": 6,
     "metadata": {},
     "output_type": "execute_result"
    }
   ],
   "source": [
    "guns_demographics = pd.read_csv('LMPD_JuvenilesWithGunsClean_Jan23-Dec23.csv', )\n",
    "guns_demographics"
   ]
  },
  {
   "cell_type": "code",
   "execution_count": 7,
   "metadata": {},
   "outputs": [
    {
     "data": {
      "text/plain": [
       "Index(['Date', 'Charges', 'Charges Sequence #', 'Arrest #', 'Age'], dtype='object')"
      ]
     },
     "execution_count": 7,
     "metadata": {},
     "output_type": "execute_result"
    }
   ],
   "source": [
    "teen_data.columns"
   ]
  },
  {
   "cell_type": "code",
   "execution_count": 8,
   "metadata": {},
   "outputs": [
    {
     "data": {
      "text/plain": [
       "Index(['Agency Name', 'Date', 'Age', 'Gender', 'Race', 'Ethnicity',\n",
       "       'Charges Classification', 'Charges', 'Arrest Type'],\n",
       "      dtype='object')"
      ]
     },
     "execution_count": 8,
     "metadata": {},
     "output_type": "execute_result"
    }
   ],
   "source": [
    "guns_demographics.columns"
   ]
  },
  {
   "cell_type": "code",
   "execution_count": 11,
   "metadata": {},
   "outputs": [
    {
     "data": {
      "text/plain": [
       "0       2023-03-18\n",
       "1       2023-03-10\n",
       "2       2023-01-06\n",
       "3       2023-07-16\n",
       "4       2023-07-16\n",
       "           ...    \n",
       "4345    2023-09-17\n",
       "4346    2023-09-17\n",
       "4347    2023-09-17\n",
       "4348    2023-01-05\n",
       "4349    2023-10-31\n",
       "Name: Date, Length: 4350, dtype: object"
      ]
     },
     "execution_count": 11,
     "metadata": {},
     "output_type": "execute_result"
    }
   ],
   "source": []
  },
  {
   "cell_type": "code",
   "execution_count": 12,
   "metadata": {},
   "outputs": [
    {
     "data": {
      "text/plain": [
       "Race\n",
       "Black      388\n",
       "White       98\n",
       "Unknown      2\n",
       "Name: count, dtype: int64"
      ]
     },
     "execution_count": 12,
     "metadata": {},
     "output_type": "execute_result"
    }
   ],
   "source": [
    "guns_demographics.Race.value_counts()"
   ]
  },
  {
   "cell_type": "code",
   "execution_count": 13,
   "metadata": {},
   "outputs": [
    {
     "data": {
      "text/plain": [
       "Ethnicity\n",
       "Not Hispanic Or Latino    461\n",
       "Unknown                    14\n",
       "Hispanic Or Latino         14\n",
       "Name: count, dtype: int64"
      ]
     },
     "execution_count": 13,
     "metadata": {},
     "output_type": "execute_result"
    }
   ],
   "source": [
    "guns_demographics.Ethnicity.value_counts()"
   ]
  },
  {
   "cell_type": "code",
   "execution_count": 14,
   "metadata": {},
   "outputs": [
    {
     "data": {
      "text/plain": [
       "488"
      ]
     },
     "execution_count": 14,
     "metadata": {},
     "output_type": "execute_result"
    }
   ],
   "source": [
    "#There's a blank somewhere in Race \n",
    "388+98+2"
   ]
  },
  {
   "cell_type": "code",
   "execution_count": 15,
   "metadata": {},
   "outputs": [
    {
     "data": {
      "text/plain": [
       "489"
      ]
     },
     "execution_count": 15,
     "metadata": {},
     "output_type": "execute_result"
    }
   ],
   "source": [
    "461+14+14"
   ]
  },
  {
   "cell_type": "code",
   "execution_count": null,
   "metadata": {},
   "outputs": [],
   "source": []
  }
 ],
 "metadata": {
  "kernelspec": {
   "display_name": "Python 3",
   "language": "python",
   "name": "python3"
  },
  "language_info": {
   "codemirror_mode": {
    "name": "ipython",
    "version": 3
   },
   "file_extension": ".py",
   "mimetype": "text/x-python",
   "name": "python",
   "nbconvert_exporter": "python",
   "pygments_lexer": "ipython3",
   "version": "3.12.2"
  }
 },
 "nbformat": 4,
 "nbformat_minor": 2
}
