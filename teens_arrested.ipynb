{
 "cells": [
  {
   "cell_type": "code",
   "execution_count": null,
   "metadata": {},
   "outputs": [],
   "source": [
    "import pandas as pd \n",
    "import numpy as np\n"
   ]
  },
  {
   "cell_type": "code",
   "execution_count": null,
   "metadata": {},
   "outputs": [],
   "source": [
    "teen_data = pd.read_csv('LMPD_CleanedData_YouthCrimeFull_2023-2024.csv')\n",
    "pd.set_option('display.max_rows', 10)\n",
    "teen_data.set_index('Date') \n",
    "\n"
   ]
  },
  {
   "cell_type": "code",
   "execution_count": null,
   "metadata": {},
   "outputs": [],
   "source": [
    "guns_demographics = pd.read_csv('LMPD_JuvenilesWithGunsClean_Jan23-Dec23.csv')\n",
    "pd.set_option('display.max_rows', 10)\n",
    "guns_demographics.value_counts('Agency Name')\n",
    "guns_demographics.shape\n",
    "guns_demographics = guns_demographics.drop(columns=['Agency Name', 'Gender', 'Race', 'Ethnicity', 'Charges Classification','Arrest Type'])\n",
    "guns_demographics\n"
   ]
  },
  {
   "cell_type": "code",
   "execution_count": null,
   "metadata": {},
   "outputs": [],
   "source": [
    "#Understanding the different charges in the kids arrested for gun possession \n",
    "pd.set_option('display.max_rows', 20)\n",
    "\n"
   ]
  },
  {
   "cell_type": "code",
   "execution_count": null,
   "metadata": {},
   "outputs": [],
   "source": [
    "teen_data_charges = teen_data.drop(columns=['Charges Sequence #', 'Arrest #'])\n",
    "teen_data_charges"
   ]
  },
  {
   "cell_type": "code",
   "execution_count": null,
   "metadata": {},
   "outputs": [],
   "source": [
    "guns_demographics.Charges.value_counts()"
   ]
  },
  {
   "cell_type": "code",
   "execution_count": null,
   "metadata": {},
   "outputs": [],
   "source": [
    "#Key words in guns_demographics charges: 'HANDGUN' 'FIREARM' 'WEAPON' \n",
    "\n"
   ]
  },
  {
   "cell_type": "code",
   "execution_count": null,
   "metadata": {},
   "outputs": [],
   "source": [
    "\n",
    "##filter year in data and match data set time frames to show rise in crimes with guns in teens by month\n",
    "#convert number with corresponding month \n",
    "import pandas as pd\n",
    "from datetime import datetime\n",
    "\n",
    "month_dict = {1:'January', \n",
    "              2:'February', \n",
    "              3: 'March',\n",
    "              4: 'April',\n",
    "              5: 'May', \n",
    "              6: 'June',\n",
    "              7: 'July',\n",
    "              8: 'August',\n",
    "              9: 'September', \n",
    "              10: 'October',\n",
    "              11: 'November',\n",
    "              12: 'December'}\n",
    "month_name = pd.Series([month_dict], name = 'Months')\n",
    "\n",
    "\n",
    "teen_date_values = pd.DatetimeIndex(teen_data[\"Date\"])\n",
    "\n",
    "teen_data['Year'] = teen_date_values.year\n",
    "teen_data['Month'] = teen_date_values.month\n",
    "\n",
    "teen_data['Month'] = teen_data['Month'].map(month_dict)\n",
    "\n",
    "total_arrest_month = teen_data['Month'].value_counts()\n",
    "\n",
    "        \n",
    "\n",
    "\n",
    "    \n",
    " \n"
   ]
  },
  {
   "cell_type": "code",
   "execution_count": null,
   "metadata": {},
   "outputs": [],
   "source": [
    "import pandas as pd\n",
    "from datetime import datetime\n",
    "\n",
    "month_dict = {1:'January', \n",
    "              2:'February', \n",
    "              3: 'March',\n",
    "              4: 'April',\n",
    "              5: 'May', \n",
    "              6: 'June',\n",
    "              7: 'July',\n",
    "              8: 'August',\n",
    "              9: 'September', \n",
    "              10: 'October',\n",
    "              11: 'November',\n",
    "              12: 'December'}\n",
    "month_name = pd.Series([month_dict], name = 'Months')\n",
    "\n",
    "\n",
    "gun_date_values = pd.DatetimeIndex(guns_demographics['Date'])\n",
    "\n",
    "guns_demographics['Year'] = gun_date_values.year\n",
    "guns_demographics['Month'] = gun_date_values.month\n",
    "\n",
    "guns_demographics['Month'] = guns_demographics['Month'].map(month_dict)\n",
    "\n",
    "\n",
    "\n",
    "age_groups = [13, 14, 15, 16, 17]\n",
    "\n"
   ]
  },
  {
   "cell_type": "code",
   "execution_count": null,
   "metadata": {},
   "outputs": [],
   "source": [
    "guns_demographics.sort_index()"
   ]
  },
  {
   "cell_type": "code",
   "execution_count": null,
   "metadata": {},
   "outputs": [],
   "source": [
    "teen_data.Age.value_counts()"
   ]
  },
  {
   "cell_type": "code",
   "execution_count": null,
   "metadata": {},
   "outputs": [],
   "source": [
    "guns_demographics.Age.value_counts()"
   ]
  },
  {
   "cell_type": "code",
   "execution_count": null,
   "metadata": {},
   "outputs": [],
   "source": [
    "#sort by dates make sure I am working on the same time frame \n",
    "\n",
    "dates_teen_full_df = teen_data[(teen_data['Date'] > '2023-01-01') & (teen_data['Date'] < '2023-12-31')]\n",
    "dates_gun_full_df = guns_demographics[(guns_demographics['Date'] > '2023-01-01') & (guns_demographics['Date'] < '2023-12-31')]"
   ]
  },
  {
   "cell_type": "code",
   "execution_count": null,
   "metadata": {},
   "outputs": [],
   "source": [
    "teen_data.Charges.value_counts()"
   ]
  },
  {
   "cell_type": "code",
   "execution_count": null,
   "metadata": {},
   "outputs": [],
   "source": [
    "import pandas as pd\n",
    "import numpy as np\n",
    "from datetime import datetime\n",
    "\n",
    "#Loading in Data \n",
    "teen_data = pd.read_csv('LMPD_CleanedData_YouthCrimeFull_2023-2024.csv')\n",
    "teen_data.set_index('Date')\n",
    "teen_data = teen_data.drop(columns=['Charges Sequence #', 'Arrest #']) #Remove unwanted info\n",
    "\n",
    "guns_demographics = pd.read_csv('LMPD_JuvenilesWithGunsClean_Jan23-Dec23.csv')\n",
    "guns_demographics = guns_demographics.drop(columns=['Agency Name', 'Gender', 'Race', 'Ethnicity', 'Charges Classification','Arrest Type']) #Remove unwanted info\n",
    "#Cleaning data by dates \n",
    "\n",
    "month_dict = {1:'January', 2:'February', 3:'March', 4:'April', 5:'May', 6:'June',7:'July',8:'August',9:'September',  10:'October',11:'November',12:'December'}\n",
    "\n",
    "teen_date_values = pd.DatetimeIndex(teen_data[\"Date\"]) #convert Date column\n",
    "teen_data['Year'] = teen_date_values.year #seperate the year\n",
    "teen_data['Month'] = teen_date_values.month #seperate the month \n",
    "teen_data['Month'] = teen_data['Month'].map(month_dict)\n",
    "\n",
    "gun_date_values = pd.DatetimeIndex(guns_demographics['Date']) #convert gun Date column\n",
    "\n",
    "guns_demographics['Year'] = gun_date_values.year #separate the year \n",
    "guns_demographics['Month'] = gun_date_values.month #seperate the month \n",
    "\n",
    "guns_demographics['Month'] = guns_demographics['Month'].map(month_dict)\n",
    "\n",
    "\n",
    "#sorted by date range\n",
    "dates_teen_full_df = teen_data[(teen_data['Date'] > '2023-01-01') & (teen_data['Date'] < '2023-12-31')]\n",
    "dates_gun_full_df = guns_demographics[(guns_demographics['Date'] > '2023-01-01') & (guns_demographics['Date'] < '2023-12-31')]\n",
    "\n",
    "list_of_months = ['January', 'February', 'March','April','May', 'June','July','August', 'September', 'October','November', 'December']\n",
    "\n",
    "\n",
    "\n",
    "crimes_per_month = dates_teen_full_df.Month.value_counts()\n",
    "crimes_per_month.index = pd.CategoricalIndex(crimes_per_month.index, categories=list_of_months, ordered=True)\n",
    "crimes_per_month = crimes_per_month.sort_index()\n",
    "\n",
    "\n",
    "guns_per_month = dates_gun_full_df.Month.value_counts()\n",
    "guns_per_month.index = pd.CategoricalIndex(guns_per_month.index, categories=list_of_months, ordered=True)\n",
    "guns_per_month= guns_per_month.sort_index()\n",
    "\n",
    "gun_final = pd.DataFrame({'Gun Possession Charges': guns_per_month})"
   ]
  },
  {
   "cell_type": "code",
   "execution_count": null,
   "metadata": {},
   "outputs": [],
   "source": [
    "total_crime_final = pd.DataFrame({'Total Teen Arrests': crimes_per_month})"
   ]
  },
  {
   "cell_type": "code",
   "execution_count": null,
   "metadata": {},
   "outputs": [],
   "source": [
    "final = pd.merge(total_crime_final, gun_final, on='Month')"
   ]
  },
  {
   "cell_type": "code",
   "execution_count": null,
   "metadata": {},
   "outputs": [],
   "source": [
    "#other theories while cleaning and future ideas \n",
    "\n",
    "#filter full teen data with charges only included in gun charges\n",
    "# WHAT IS THIS SHOWING THIS IS TO PICK UP LATER - WHAT DOES THIS MEAN IN RELATIONSHIP TO THE DATASET \n",
    "#handgun = ['POSS HANDGUN BY MINOR 1ST OFFENSE 527.100 52206 520','RECEIVING STOLEN PROPERTY (FIREARM) 514.110 28020 280', 'CARRYING A CONCEALED DEADLY WEAPON 527.020 01501 520','POSS HANDGUN BY MINOR 2ND OR > 527.100 52205 520', 'TBUT OR DISP FIREARM 514.030 23100 23H', 'POSSESSION OF HANDGUN BY CONVICTED FELON 527.040 52197 520','UNLAWFUL POSSESSION OF WEAPON ON SCHOOL PROPERTY 527.070 52204 520', 'UNLAWFULLY PROV/PERMIT MINOR TO POSSESS HANDGUN 527.110 52203 520','USING RESTRICTED AMMO DURING A FELONY (NO SHOTS) 527.080(2)(A) 02549 520', 'POSSESSION OF DEFACED FIREARM 527.050 01504 520','POSSESSION OF FIREARM BY CONVICTED FELON 527.040 52196 520']\n",
    "#gun_filter =teen_data[teen_data['Charges'].isin(handgun)]\n",
    "#gun_filter.set_index('Date') \n",
    "\n",
    "#Note DATE SETS ALMOST MATCHED NUMBERS - WHAT IS THE DIFFERENCE AND WHY? \n",
    "\n"
   ]
  }
 ],
 "metadata": {
  "kernelspec": {
   "display_name": "Python 3",
   "language": "python",
   "name": "python3"
  },
  "language_info": {
   "codemirror_mode": {
    "name": "ipython",
    "version": 3
   },
   "file_extension": ".py",
   "mimetype": "text/x-python",
   "name": "python",
   "nbconvert_exporter": "python",
   "pygments_lexer": "ipython3",
   "version": "3.12.2"
  }
 },
 "nbformat": 4,
 "nbformat_minor": 2
}
