{
 "cells": [
  {
   "cell_type": "code",
   "execution_count": 3,
   "metadata": {},
   "outputs": [],
   "source": [
    "import pandas as pd \n",
    "import numpy as np\n"
   ]
  },
  {
   "cell_type": "code",
   "execution_count": 4,
   "metadata": {},
   "outputs": [
    {
     "data": {
      "text/html": [
       "<div>\n",
       "<style scoped>\n",
       "    .dataframe tbody tr th:only-of-type {\n",
       "        vertical-align: middle;\n",
       "    }\n",
       "\n",
       "    .dataframe tbody tr th {\n",
       "        vertical-align: top;\n",
       "    }\n",
       "\n",
       "    .dataframe thead th {\n",
       "        text-align: right;\n",
       "    }\n",
       "</style>\n",
       "<table border=\"1\" class=\"dataframe\">\n",
       "  <thead>\n",
       "    <tr style=\"text-align: right;\">\n",
       "      <th></th>\n",
       "      <th>Charges</th>\n",
       "      <th>Charges Sequence #</th>\n",
       "      <th>Arrest #</th>\n",
       "      <th>Age</th>\n",
       "    </tr>\n",
       "    <tr>\n",
       "      <th>Date</th>\n",
       "      <th></th>\n",
       "      <th></th>\n",
       "      <th></th>\n",
       "      <th></th>\n",
       "    </tr>\n",
       "  </thead>\n",
       "  <tbody>\n",
       "    <tr>\n",
       "      <th>2023-03-18</th>\n",
       "      <td>INVOLUNTARY HOSPITALIZATION OF MENTALLY ILL - ...</td>\n",
       "      <td>1.0</td>\n",
       "      <td>23018261</td>\n",
       "      <td>17</td>\n",
       "    </tr>\n",
       "    <tr>\n",
       "      <th>2023-03-10</th>\n",
       "      <td>ROBBERY - 1ST DEGREE 515.020 12002 120</td>\n",
       "      <td>1.0</td>\n",
       "      <td>9426220-1</td>\n",
       "      <td>15</td>\n",
       "    </tr>\n",
       "    <tr>\n",
       "      <th>2023-01-06</th>\n",
       "      <td>CRIMINAL MISCHIEF - 1ST DEGREE 512.020 01401 290</td>\n",
       "      <td>1.0</td>\n",
       "      <td>DM90637-1</td>\n",
       "      <td>13</td>\n",
       "    </tr>\n",
       "    <tr>\n",
       "      <th>2023-07-16</th>\n",
       "      <td>ASSAULT-3RD DEGREE-POLICE/PROBATION OFFICER-ID...</td>\n",
       "      <td>2.0</td>\n",
       "      <td>DQ55337</td>\n",
       "      <td>14</td>\n",
       "    </tr>\n",
       "    <tr>\n",
       "      <th>2023-07-16</th>\n",
       "      <td>MENACING 508.050 00803 13C</td>\n",
       "      <td>1.0</td>\n",
       "      <td>DQ55337</td>\n",
       "      <td>14</td>\n",
       "    </tr>\n",
       "    <tr>\n",
       "      <th>...</th>\n",
       "      <td>...</td>\n",
       "      <td>...</td>\n",
       "      <td>...</td>\n",
       "      <td>...</td>\n",
       "    </tr>\n",
       "    <tr>\n",
       "      <th>2023-09-17</th>\n",
       "      <td>NO OPERATORS/MOPED LICENSE 186.410(1) 00380 999</td>\n",
       "      <td>2.0</td>\n",
       "      <td>P463521</td>\n",
       "      <td>17</td>\n",
       "    </tr>\n",
       "    <tr>\n",
       "      <th>2023-09-17</th>\n",
       "      <td>NO OR EXPIRED REGISTRATION PLATES 186.170 0042...</td>\n",
       "      <td>3.0</td>\n",
       "      <td>P463521</td>\n",
       "      <td>17</td>\n",
       "    </tr>\n",
       "    <tr>\n",
       "      <th>2023-09-17</th>\n",
       "      <td>RECEIVING STOLEN PROPERTY $10,000 OR MORE 514....</td>\n",
       "      <td>1.0</td>\n",
       "      <td>P463522</td>\n",
       "      <td>17</td>\n",
       "    </tr>\n",
       "    <tr>\n",
       "      <th>2023-01-05</th>\n",
       "      <td>FAILURE TO APPEAR, CITATION FOR MISDEMEANOR 43...</td>\n",
       "      <td>1.0</td>\n",
       "      <td>P469742-1</td>\n",
       "      <td>14</td>\n",
       "    </tr>\n",
       "    <tr>\n",
       "      <th>2023-10-31</th>\n",
       "      <td>RECEIVING STOLEN PROPERTY $1,000 &lt; $10,000 514...</td>\n",
       "      <td>1.0</td>\n",
       "      <td>P958498</td>\n",
       "      <td>16</td>\n",
       "    </tr>\n",
       "  </tbody>\n",
       "</table>\n",
       "<p>4350 rows × 4 columns</p>\n",
       "</div>"
      ],
      "text/plain": [
       "                                                      Charges  \\\n",
       "Date                                                            \n",
       "2023-03-18  INVOLUNTARY HOSPITALIZATION OF MENTALLY ILL - ...   \n",
       "2023-03-10             ROBBERY - 1ST DEGREE 515.020 12002 120   \n",
       "2023-01-06   CRIMINAL MISCHIEF - 1ST DEGREE 512.020 01401 290   \n",
       "2023-07-16  ASSAULT-3RD DEGREE-POLICE/PROBATION OFFICER-ID...   \n",
       "2023-07-16                         MENACING 508.050 00803 13C   \n",
       "...                                                       ...   \n",
       "2023-09-17    NO OPERATORS/MOPED LICENSE 186.410(1) 00380 999   \n",
       "2023-09-17  NO OR EXPIRED REGISTRATION PLATES 186.170 0042...   \n",
       "2023-09-17  RECEIVING STOLEN PROPERTY $10,000 OR MORE 514....   \n",
       "2023-01-05  FAILURE TO APPEAR, CITATION FOR MISDEMEANOR 43...   \n",
       "2023-10-31  RECEIVING STOLEN PROPERTY $1,000 < $10,000 514...   \n",
       "\n",
       "            Charges Sequence #   Arrest #  Age  \n",
       "Date                                            \n",
       "2023-03-18                 1.0   23018261   17  \n",
       "2023-03-10                 1.0  9426220-1   15  \n",
       "2023-01-06                 1.0  DM90637-1   13  \n",
       "2023-07-16                 2.0    DQ55337   14  \n",
       "2023-07-16                 1.0    DQ55337   14  \n",
       "...                        ...        ...  ...  \n",
       "2023-09-17                 2.0    P463521   17  \n",
       "2023-09-17                 3.0    P463521   17  \n",
       "2023-09-17                 1.0    P463522   17  \n",
       "2023-01-05                 1.0  P469742-1   14  \n",
       "2023-10-31                 1.0    P958498   16  \n",
       "\n",
       "[4350 rows x 4 columns]"
      ]
     },
     "execution_count": 4,
     "metadata": {},
     "output_type": "execute_result"
    }
   ],
   "source": [
    "teen_data = pd.read_csv('LMPD_CleanedData_YouthCrimeFull_2023-2024.csv')\n",
    "pd.set_option('display.max_rows', 10)\n",
    "teen_data.set_index('Date')\n"
   ]
  },
  {
   "cell_type": "code",
   "execution_count": 5,
   "metadata": {},
   "outputs": [
    {
     "data": {
      "text/html": [
       "<div>\n",
       "<style scoped>\n",
       "    .dataframe tbody tr th:only-of-type {\n",
       "        vertical-align: middle;\n",
       "    }\n",
       "\n",
       "    .dataframe tbody tr th {\n",
       "        vertical-align: top;\n",
       "    }\n",
       "\n",
       "    .dataframe thead th {\n",
       "        text-align: right;\n",
       "    }\n",
       "</style>\n",
       "<table border=\"1\" class=\"dataframe\">\n",
       "  <thead>\n",
       "    <tr style=\"text-align: right;\">\n",
       "      <th></th>\n",
       "      <th>Age</th>\n",
       "      <th>Gender</th>\n",
       "      <th>Race</th>\n",
       "      <th>Ethnicity</th>\n",
       "      <th>Charges Classification</th>\n",
       "      <th>Charges</th>\n",
       "      <th>Arrest Type</th>\n",
       "    </tr>\n",
       "    <tr>\n",
       "      <th>Date</th>\n",
       "      <th></th>\n",
       "      <th></th>\n",
       "      <th></th>\n",
       "      <th></th>\n",
       "      <th></th>\n",
       "      <th></th>\n",
       "      <th></th>\n",
       "    </tr>\n",
       "  </thead>\n",
       "  <tbody>\n",
       "    <tr>\n",
       "      <th>2022-01-05</th>\n",
       "      <td>16</td>\n",
       "      <td>Male</td>\n",
       "      <td>Black</td>\n",
       "      <td>Not Hispanic Or Latino</td>\n",
       "      <td>46 WPNS LAW VIOLATION</td>\n",
       "      <td>POSS HANDGUN BY MINOR 2ND OR &gt; 527.100 52205 520</td>\n",
       "      <td>Taken Into Custody</td>\n",
       "    </tr>\n",
       "    <tr>\n",
       "      <th>2022-01-14</th>\n",
       "      <td>14</td>\n",
       "      <td>Male</td>\n",
       "      <td>Black</td>\n",
       "      <td>Not Hispanic Or Latino</td>\n",
       "      <td>46 WPNS LAW VIOLATION</td>\n",
       "      <td>POSS HANDGUN BY MINOR 1ST OFFENSE 527.100 5220...</td>\n",
       "      <td>Taken Into Custody</td>\n",
       "    </tr>\n",
       "    <tr>\n",
       "      <th>2022-01-14</th>\n",
       "      <td>15</td>\n",
       "      <td>Male</td>\n",
       "      <td>Black</td>\n",
       "      <td>Not Hispanic Or Latino</td>\n",
       "      <td>46 WPNS LAW VIOLATION</td>\n",
       "      <td>POSS HANDGUN BY MINOR 1ST OFFENSE 527.100 5220...</td>\n",
       "      <td>Taken Into Custody</td>\n",
       "    </tr>\n",
       "    <tr>\n",
       "      <th>2022-01-14</th>\n",
       "      <td>17</td>\n",
       "      <td>Male</td>\n",
       "      <td>Black</td>\n",
       "      <td>Not Hispanic Or Latino</td>\n",
       "      <td>46 WPNS LAW VIOLATION</td>\n",
       "      <td>POSS HANDGUN BY MINOR 2ND OR &gt; 527.100 52205 520</td>\n",
       "      <td>Taken Into Custody</td>\n",
       "    </tr>\n",
       "    <tr>\n",
       "      <th>2022-01-14</th>\n",
       "      <td>17</td>\n",
       "      <td>Male</td>\n",
       "      <td>Black</td>\n",
       "      <td>Not Hispanic Or Latino</td>\n",
       "      <td>46 WPNS LAW VIOLATION</td>\n",
       "      <td>UNLAWFULLY PROV/PERMIT MINOR TO POSSESS HANDGU...</td>\n",
       "      <td>Taken Into Custody</td>\n",
       "    </tr>\n",
       "    <tr>\n",
       "      <th>...</th>\n",
       "      <td>...</td>\n",
       "      <td>...</td>\n",
       "      <td>...</td>\n",
       "      <td>...</td>\n",
       "      <td>...</td>\n",
       "      <td>...</td>\n",
       "      <td>...</td>\n",
       "    </tr>\n",
       "    <tr>\n",
       "      <th>2023-12-14</th>\n",
       "      <td>15</td>\n",
       "      <td>Male</td>\n",
       "      <td>Black</td>\n",
       "      <td>Not Hispanic Or Latino</td>\n",
       "      <td>46 WPNS LAW VIOLATION</td>\n",
       "      <td>CARRYING A CONCEALED DEADLY WEAPON 527.020 015...</td>\n",
       "      <td>On View Arrest</td>\n",
       "    </tr>\n",
       "    <tr>\n",
       "      <th>2023-12-14</th>\n",
       "      <td>15</td>\n",
       "      <td>Male</td>\n",
       "      <td>Black</td>\n",
       "      <td>Not Hispanic Or Latino</td>\n",
       "      <td>46 WPNS LAW VIOLATION</td>\n",
       "      <td>POSS HANDGUN BY MINOR 1ST OFFENSE 527.100 5220...</td>\n",
       "      <td>On View Arrest</td>\n",
       "    </tr>\n",
       "    <tr>\n",
       "      <th>2023-12-15</th>\n",
       "      <td>16</td>\n",
       "      <td>Male</td>\n",
       "      <td>Black</td>\n",
       "      <td>Not Hispanic Or Latino</td>\n",
       "      <td>46 WPNS LAW VIOLATION</td>\n",
       "      <td>POSS HANDGUN BY MINOR 1ST OFFENSE 527.100 5220...</td>\n",
       "      <td>Taken Into Custody</td>\n",
       "    </tr>\n",
       "    <tr>\n",
       "      <th>2023-12-17</th>\n",
       "      <td>15</td>\n",
       "      <td>Male</td>\n",
       "      <td>Black</td>\n",
       "      <td>Not Hispanic Or Latino</td>\n",
       "      <td>46 WPNS LAW VIOLATION</td>\n",
       "      <td>POSS HANDGUN BY MINOR 1ST OFFENSE 527.100 5220...</td>\n",
       "      <td>Taken Into Custody</td>\n",
       "    </tr>\n",
       "    <tr>\n",
       "      <th>2023-12-20</th>\n",
       "      <td>17</td>\n",
       "      <td>Male</td>\n",
       "      <td>Black</td>\n",
       "      <td>Not Hispanic Or Latino</td>\n",
       "      <td>46 WPNS LAW VIOLATION</td>\n",
       "      <td>POSS HANDGUN BY MINOR 1ST OFFENSE 527.100 5220...</td>\n",
       "      <td>Taken Into Custody</td>\n",
       "    </tr>\n",
       "  </tbody>\n",
       "</table>\n",
       "<p>490 rows × 7 columns</p>\n",
       "</div>"
      ],
      "text/plain": [
       "            Age Gender   Race               Ethnicity Charges Classification  \\\n",
       "Date                                                                           \n",
       "2022-01-05   16   Male  Black  Not Hispanic Or Latino  46 WPNS LAW VIOLATION   \n",
       "2022-01-14   14   Male  Black  Not Hispanic Or Latino  46 WPNS LAW VIOLATION   \n",
       "2022-01-14   15   Male  Black  Not Hispanic Or Latino  46 WPNS LAW VIOLATION   \n",
       "2022-01-14   17   Male  Black  Not Hispanic Or Latino  46 WPNS LAW VIOLATION   \n",
       "2022-01-14   17   Male  Black  Not Hispanic Or Latino  46 WPNS LAW VIOLATION   \n",
       "...         ...    ...    ...                     ...                    ...   \n",
       "2023-12-14   15   Male  Black  Not Hispanic Or Latino  46 WPNS LAW VIOLATION   \n",
       "2023-12-14   15   Male  Black  Not Hispanic Or Latino  46 WPNS LAW VIOLATION   \n",
       "2023-12-15   16   Male  Black  Not Hispanic Or Latino  46 WPNS LAW VIOLATION   \n",
       "2023-12-17   15   Male  Black  Not Hispanic Or Latino  46 WPNS LAW VIOLATION   \n",
       "2023-12-20   17   Male  Black  Not Hispanic Or Latino  46 WPNS LAW VIOLATION   \n",
       "\n",
       "                                                      Charges  \\\n",
       "Date                                                            \n",
       "2022-01-05   POSS HANDGUN BY MINOR 2ND OR > 527.100 52205 520   \n",
       "2022-01-14  POSS HANDGUN BY MINOR 1ST OFFENSE 527.100 5220...   \n",
       "2022-01-14  POSS HANDGUN BY MINOR 1ST OFFENSE 527.100 5220...   \n",
       "2022-01-14   POSS HANDGUN BY MINOR 2ND OR > 527.100 52205 520   \n",
       "2022-01-14  UNLAWFULLY PROV/PERMIT MINOR TO POSSESS HANDGU...   \n",
       "...                                                       ...   \n",
       "2023-12-14  CARRYING A CONCEALED DEADLY WEAPON 527.020 015...   \n",
       "2023-12-14  POSS HANDGUN BY MINOR 1ST OFFENSE 527.100 5220...   \n",
       "2023-12-15  POSS HANDGUN BY MINOR 1ST OFFENSE 527.100 5220...   \n",
       "2023-12-17  POSS HANDGUN BY MINOR 1ST OFFENSE 527.100 5220...   \n",
       "2023-12-20  POSS HANDGUN BY MINOR 1ST OFFENSE 527.100 5220...   \n",
       "\n",
       "                   Arrest Type  \n",
       "Date                            \n",
       "2022-01-05  Taken Into Custody  \n",
       "2022-01-14  Taken Into Custody  \n",
       "2022-01-14  Taken Into Custody  \n",
       "2022-01-14  Taken Into Custody  \n",
       "2022-01-14  Taken Into Custody  \n",
       "...                        ...  \n",
       "2023-12-14      On View Arrest  \n",
       "2023-12-14      On View Arrest  \n",
       "2023-12-15  Taken Into Custody  \n",
       "2023-12-17  Taken Into Custody  \n",
       "2023-12-20  Taken Into Custody  \n",
       "\n",
       "[490 rows x 7 columns]"
      ]
     },
     "execution_count": 5,
     "metadata": {},
     "output_type": "execute_result"
    }
   ],
   "source": [
    "guns_demographics = pd.read_csv('LMPD_JuvenilesWithGunsClean_Jan23-Dec23.csv')\n",
    "pd.set_option('display.max_rows', 10)\n",
    "guns_demographics.value_counts('Agency Name')\n",
    "guns_demographics.shape\n",
    "guns_demographics = guns_demographics.set_index('Date')\n",
    "guns_demographics = guns_demographics.drop(columns=['Agency Name'])\n",
    "guns_demographics"
   ]
  },
  {
   "cell_type": "code",
   "execution_count": 6,
   "metadata": {},
   "outputs": [
    {
     "data": {
      "text/plain": [
       "Index(['Date', 'Charges', 'Charges Sequence #', 'Arrest #', 'Age'], dtype='object')"
      ]
     },
     "execution_count": 6,
     "metadata": {},
     "output_type": "execute_result"
    }
   ],
   "source": [
    "# Understanding each dataset \n",
    "teen_data.columns"
   ]
  },
  {
   "cell_type": "code",
   "execution_count": 7,
   "metadata": {},
   "outputs": [
    {
     "data": {
      "text/plain": [
       "Index(['Age', 'Gender', 'Race', 'Ethnicity', 'Charges Classification',\n",
       "       'Charges', 'Arrest Type'],\n",
       "      dtype='object')"
      ]
     },
     "execution_count": 7,
     "metadata": {},
     "output_type": "execute_result"
    }
   ],
   "source": [
    "guns_demographics.columns"
   ]
  },
  {
   "cell_type": "code",
   "execution_count": 8,
   "metadata": {},
   "outputs": [
    {
     "data": {
      "text/plain": [
       "Race\n",
       "Black      388\n",
       "White       98\n",
       "Unknown      2\n",
       "Name: count, dtype: int64"
      ]
     },
     "execution_count": 8,
     "metadata": {},
     "output_type": "execute_result"
    }
   ],
   "source": [
    "guns_demographics.Race.value_counts()"
   ]
  },
  {
   "cell_type": "code",
   "execution_count": 9,
   "metadata": {},
   "outputs": [
    {
     "data": {
      "text/plain": [
       "Ethnicity\n",
       "Not Hispanic Or Latino    461\n",
       "Unknown                    14\n",
       "Hispanic Or Latino         14\n",
       "Name: count, dtype: int64"
      ]
     },
     "execution_count": 9,
     "metadata": {},
     "output_type": "execute_result"
    }
   ],
   "source": [
    "guns_demographics.Ethnicity.value_counts()"
   ]
  },
  {
   "cell_type": "code",
   "execution_count": 10,
   "metadata": {},
   "outputs": [
    {
     "data": {
      "text/plain": [
       "488"
      ]
     },
     "execution_count": 10,
     "metadata": {},
     "output_type": "execute_result"
    }
   ],
   "source": [
    "#There's a blank somewhere in Race \n",
    "388+98+2"
   ]
  },
  {
   "cell_type": "code",
   "execution_count": 11,
   "metadata": {},
   "outputs": [
    {
     "data": {
      "text/plain": [
       "489"
      ]
     },
     "execution_count": 11,
     "metadata": {},
     "output_type": "execute_result"
    }
   ],
   "source": [
    "461+14+14"
   ]
  },
  {
   "cell_type": "code",
   "execution_count": 12,
   "metadata": {},
   "outputs": [],
   "source": [
    "#Removing \"Louisville Metro Police Department\" because it's redudant. We know that's where the data came from. \n"
   ]
  },
  {
   "cell_type": "code",
   "execution_count": 13,
   "metadata": {},
   "outputs": [
    {
     "data": {
      "text/plain": [
       "Charges\n",
       "POSS HANDGUN BY MINOR 1ST OFFENSE 527.100 52206 520                         278\n",
       "RECEIVING STOLEN PROPERTY (FIREARM) 514.110 28020 280                        80\n",
       "CARRYING A CONCEALED DEADLY WEAPON 527.020 01501 520                         56\n",
       "POSS HANDGUN BY MINOR 2ND OR > 527.100 52205 520                             36\n",
       "TBUT OR DISP FIREARM 514.030 23100 23H                                       21\n",
       "POSSESSION OF HANDGUN BY CONVICTED FELON 527.040 52197 520                    6\n",
       "UNLAWFUL POSSESSION OF WEAPON ON SCHOOL PROPERTY 527.070 52204 520            5\n",
       "UNLAWFULLY PROV/PERMIT MINOR TO POSSESS HANDGUN 527.110 52203 520             2\n",
       "USING RESTRICTED AMMO DURING A FELONY (NO SHOTS) 527.080(2)(A) 02549 520      2\n",
       "POSSESSION OF DEFACED FIREARM 527.050 01504 520                               2\n",
       "POSSESSION OF FIREARM BY CONVICTED FELON 527.040 52196 520                    2\n",
       "Name: count, dtype: int64"
      ]
     },
     "execution_count": 13,
     "metadata": {},
     "output_type": "execute_result"
    }
   ],
   "source": [
    "#Understanding the different charges in the kids arrested for gun possession \n",
    "pd.set_option('display.max_rows', 20)\n",
    "guns_demographics.Charges.value_counts()"
   ]
  },
  {
   "cell_type": "code",
   "execution_count": 14,
   "metadata": {},
   "outputs": [
    {
     "data": {
      "text/html": [
       "<div>\n",
       "<style scoped>\n",
       "    .dataframe tbody tr th:only-of-type {\n",
       "        vertical-align: middle;\n",
       "    }\n",
       "\n",
       "    .dataframe tbody tr th {\n",
       "        vertical-align: top;\n",
       "    }\n",
       "\n",
       "    .dataframe thead th {\n",
       "        text-align: right;\n",
       "    }\n",
       "</style>\n",
       "<table border=\"1\" class=\"dataframe\">\n",
       "  <thead>\n",
       "    <tr style=\"text-align: right;\">\n",
       "      <th></th>\n",
       "      <th>Date</th>\n",
       "      <th>Charges</th>\n",
       "      <th>Arrest #</th>\n",
       "      <th>Age</th>\n",
       "    </tr>\n",
       "  </thead>\n",
       "  <tbody>\n",
       "    <tr>\n",
       "      <th>0</th>\n",
       "      <td>2023-03-18</td>\n",
       "      <td>INVOLUNTARY HOSPITALIZATION OF MENTALLY ILL - ...</td>\n",
       "      <td>23018261</td>\n",
       "      <td>17</td>\n",
       "    </tr>\n",
       "    <tr>\n",
       "      <th>1</th>\n",
       "      <td>2023-03-10</td>\n",
       "      <td>ROBBERY - 1ST DEGREE 515.020 12002 120</td>\n",
       "      <td>9426220-1</td>\n",
       "      <td>15</td>\n",
       "    </tr>\n",
       "    <tr>\n",
       "      <th>2</th>\n",
       "      <td>2023-01-06</td>\n",
       "      <td>CRIMINAL MISCHIEF - 1ST DEGREE 512.020 01401 290</td>\n",
       "      <td>DM90637-1</td>\n",
       "      <td>13</td>\n",
       "    </tr>\n",
       "    <tr>\n",
       "      <th>3</th>\n",
       "      <td>2023-07-16</td>\n",
       "      <td>ASSAULT-3RD DEGREE-POLICE/PROBATION OFFICER-ID...</td>\n",
       "      <td>DQ55337</td>\n",
       "      <td>14</td>\n",
       "    </tr>\n",
       "    <tr>\n",
       "      <th>4</th>\n",
       "      <td>2023-07-16</td>\n",
       "      <td>MENACING 508.050 00803 13C</td>\n",
       "      <td>DQ55337</td>\n",
       "      <td>14</td>\n",
       "    </tr>\n",
       "    <tr>\n",
       "      <th>...</th>\n",
       "      <td>...</td>\n",
       "      <td>...</td>\n",
       "      <td>...</td>\n",
       "      <td>...</td>\n",
       "    </tr>\n",
       "    <tr>\n",
       "      <th>4345</th>\n",
       "      <td>2023-09-17</td>\n",
       "      <td>NO OPERATORS/MOPED LICENSE 186.410(1) 00380 999</td>\n",
       "      <td>P463521</td>\n",
       "      <td>17</td>\n",
       "    </tr>\n",
       "    <tr>\n",
       "      <th>4346</th>\n",
       "      <td>2023-09-17</td>\n",
       "      <td>NO OR EXPIRED REGISTRATION PLATES 186.170 0042...</td>\n",
       "      <td>P463521</td>\n",
       "      <td>17</td>\n",
       "    </tr>\n",
       "    <tr>\n",
       "      <th>4347</th>\n",
       "      <td>2023-09-17</td>\n",
       "      <td>RECEIVING STOLEN PROPERTY $10,000 OR MORE 514....</td>\n",
       "      <td>P463522</td>\n",
       "      <td>17</td>\n",
       "    </tr>\n",
       "    <tr>\n",
       "      <th>4348</th>\n",
       "      <td>2023-01-05</td>\n",
       "      <td>FAILURE TO APPEAR, CITATION FOR MISDEMEANOR 43...</td>\n",
       "      <td>P469742-1</td>\n",
       "      <td>14</td>\n",
       "    </tr>\n",
       "    <tr>\n",
       "      <th>4349</th>\n",
       "      <td>2023-10-31</td>\n",
       "      <td>RECEIVING STOLEN PROPERTY $1,000 &lt; $10,000 514...</td>\n",
       "      <td>P958498</td>\n",
       "      <td>16</td>\n",
       "    </tr>\n",
       "  </tbody>\n",
       "</table>\n",
       "<p>4350 rows × 4 columns</p>\n",
       "</div>"
      ],
      "text/plain": [
       "            Date                                            Charges  \\\n",
       "0     2023-03-18  INVOLUNTARY HOSPITALIZATION OF MENTALLY ILL - ...   \n",
       "1     2023-03-10             ROBBERY - 1ST DEGREE 515.020 12002 120   \n",
       "2     2023-01-06   CRIMINAL MISCHIEF - 1ST DEGREE 512.020 01401 290   \n",
       "3     2023-07-16  ASSAULT-3RD DEGREE-POLICE/PROBATION OFFICER-ID...   \n",
       "4     2023-07-16                         MENACING 508.050 00803 13C   \n",
       "...          ...                                                ...   \n",
       "4345  2023-09-17    NO OPERATORS/MOPED LICENSE 186.410(1) 00380 999   \n",
       "4346  2023-09-17  NO OR EXPIRED REGISTRATION PLATES 186.170 0042...   \n",
       "4347  2023-09-17  RECEIVING STOLEN PROPERTY $10,000 OR MORE 514....   \n",
       "4348  2023-01-05  FAILURE TO APPEAR, CITATION FOR MISDEMEANOR 43...   \n",
       "4349  2023-10-31  RECEIVING STOLEN PROPERTY $1,000 < $10,000 514...   \n",
       "\n",
       "       Arrest #  Age  \n",
       "0      23018261   17  \n",
       "1     9426220-1   15  \n",
       "2     DM90637-1   13  \n",
       "3       DQ55337   14  \n",
       "4       DQ55337   14  \n",
       "...         ...  ...  \n",
       "4345    P463521   17  \n",
       "4346    P463521   17  \n",
       "4347    P463522   17  \n",
       "4348  P469742-1   14  \n",
       "4349    P958498   16  \n",
       "\n",
       "[4350 rows x 4 columns]"
      ]
     },
     "execution_count": 14,
     "metadata": {},
     "output_type": "execute_result"
    }
   ],
   "source": [
    "teen_data_charges = teen_data.drop(columns=['Charges Sequence #'])\n",
    "teen_data_charges"
   ]
  },
  {
   "cell_type": "code",
   "execution_count": null,
   "metadata": {},
   "outputs": [],
   "source": []
  },
  {
   "cell_type": "code",
   "execution_count": 15,
   "metadata": {},
   "outputs": [
    {
     "data": {
      "text/plain": [
       "Charges\n",
       "POSS HANDGUN BY MINOR 1ST OFFENSE 527.100 52206 520                         278\n",
       "RECEIVING STOLEN PROPERTY (FIREARM) 514.110 28020 280                        80\n",
       "CARRYING A CONCEALED DEADLY WEAPON 527.020 01501 520                         56\n",
       "POSS HANDGUN BY MINOR 2ND OR > 527.100 52205 520                             36\n",
       "TBUT OR DISP FIREARM 514.030 23100 23H                                       21\n",
       "POSSESSION OF HANDGUN BY CONVICTED FELON 527.040 52197 520                    6\n",
       "UNLAWFUL POSSESSION OF WEAPON ON SCHOOL PROPERTY 527.070 52204 520            5\n",
       "UNLAWFULLY PROV/PERMIT MINOR TO POSSESS HANDGUN 527.110 52203 520             2\n",
       "USING RESTRICTED AMMO DURING A FELONY (NO SHOTS) 527.080(2)(A) 02549 520      2\n",
       "POSSESSION OF DEFACED FIREARM 527.050 01504 520                               2\n",
       "POSSESSION OF FIREARM BY CONVICTED FELON 527.040 52196 520                    2\n",
       "Name: count, dtype: int64"
      ]
     },
     "execution_count": 15,
     "metadata": {},
     "output_type": "execute_result"
    }
   ],
   "source": [
    "guns_demographics.Charges.value_counts()"
   ]
  },
  {
   "cell_type": "code",
   "execution_count": 16,
   "metadata": {},
   "outputs": [],
   "source": [
    "#Key words in guns_demographics charges: 'HANDGUN' 'FIREARM' 'WEAPON' \n",
    "\n"
   ]
  },
  {
   "cell_type": "code",
   "execution_count": 17,
   "metadata": {},
   "outputs": [
    {
     "data": {
      "text/html": [
       "<div>\n",
       "<style scoped>\n",
       "    .dataframe tbody tr th:only-of-type {\n",
       "        vertical-align: middle;\n",
       "    }\n",
       "\n",
       "    .dataframe tbody tr th {\n",
       "        vertical-align: top;\n",
       "    }\n",
       "\n",
       "    .dataframe thead th {\n",
       "        text-align: right;\n",
       "    }\n",
       "</style>\n",
       "<table border=\"1\" class=\"dataframe\">\n",
       "  <thead>\n",
       "    <tr style=\"text-align: right;\">\n",
       "      <th></th>\n",
       "      <th>Date</th>\n",
       "      <th>Charges</th>\n",
       "      <th>Charges Sequence #</th>\n",
       "      <th>Arrest #</th>\n",
       "      <th>Age</th>\n",
       "    </tr>\n",
       "  </thead>\n",
       "  <tbody>\n",
       "    <tr>\n",
       "      <th>13</th>\n",
       "      <td>2022-08-06</td>\n",
       "      <td>RECEIVING STOLEN PROPERTY (FIREARM) 514.110 28...</td>\n",
       "      <td>4.0</td>\n",
       "      <td>DR77308-1</td>\n",
       "      <td>16</td>\n",
       "    </tr>\n",
       "    <tr>\n",
       "      <th>14</th>\n",
       "      <td>2022-08-06</td>\n",
       "      <td>POSS HANDGUN BY MINOR 1ST OFFENSE 527.100 5220...</td>\n",
       "      <td>5.0</td>\n",
       "      <td>DR77308-1</td>\n",
       "      <td>16</td>\n",
       "    </tr>\n",
       "    <tr>\n",
       "      <th>19</th>\n",
       "      <td>2022-04-13</td>\n",
       "      <td>POSS HANDGUN BY MINOR 1ST OFFENSE 527.100 5220...</td>\n",
       "      <td>3.0</td>\n",
       "      <td>DT83058-1</td>\n",
       "      <td>17</td>\n",
       "    </tr>\n",
       "    <tr>\n",
       "      <th>23</th>\n",
       "      <td>2022-04-15</td>\n",
       "      <td>POSS HANDGUN BY MINOR 2ND OR &gt; 527.100 52205 520</td>\n",
       "      <td>3.0</td>\n",
       "      <td>DU75251-1</td>\n",
       "      <td>16</td>\n",
       "    </tr>\n",
       "    <tr>\n",
       "      <th>26</th>\n",
       "      <td>2022-05-04</td>\n",
       "      <td>POSS HANDGUN BY MINOR 1ST OFFENSE 527.100 5220...</td>\n",
       "      <td>2.0</td>\n",
       "      <td>DU94153-1</td>\n",
       "      <td>17</td>\n",
       "    </tr>\n",
       "    <tr>\n",
       "      <th>...</th>\n",
       "      <td>...</td>\n",
       "      <td>...</td>\n",
       "      <td>...</td>\n",
       "      <td>...</td>\n",
       "      <td>...</td>\n",
       "    </tr>\n",
       "    <tr>\n",
       "      <th>4327</th>\n",
       "      <td>2022-11-26</td>\n",
       "      <td>CARRYING A CONCEALED DEADLY WEAPON 527.020 015...</td>\n",
       "      <td>2.0</td>\n",
       "      <td>P463431-1</td>\n",
       "      <td>15</td>\n",
       "    </tr>\n",
       "    <tr>\n",
       "      <th>4328</th>\n",
       "      <td>2022-12-07</td>\n",
       "      <td>RECEIVING STOLEN PROPERTY (FIREARM) 514.110 28...</td>\n",
       "      <td>1.0</td>\n",
       "      <td>P463432-1</td>\n",
       "      <td>13</td>\n",
       "    </tr>\n",
       "    <tr>\n",
       "      <th>4330</th>\n",
       "      <td>2022-12-07</td>\n",
       "      <td>POSS HANDGUN BY MINOR 1ST OFFENSE 527.100 5220...</td>\n",
       "      <td>2.0</td>\n",
       "      <td>P463432-1</td>\n",
       "      <td>13</td>\n",
       "    </tr>\n",
       "    <tr>\n",
       "      <th>4340</th>\n",
       "      <td>2023-08-01</td>\n",
       "      <td>POSS HANDGUN BY MINOR 1ST OFFENSE 527.100 5220...</td>\n",
       "      <td>2.0</td>\n",
       "      <td>P463493</td>\n",
       "      <td>15</td>\n",
       "    </tr>\n",
       "    <tr>\n",
       "      <th>4344</th>\n",
       "      <td>2023-09-17</td>\n",
       "      <td>POSS HANDGUN BY MINOR 1ST OFFENSE 527.100 5220...</td>\n",
       "      <td>1.0</td>\n",
       "      <td>P463521</td>\n",
       "      <td>17</td>\n",
       "    </tr>\n",
       "  </tbody>\n",
       "</table>\n",
       "<p>522 rows × 5 columns</p>\n",
       "</div>"
      ],
      "text/plain": [
       "            Date                                            Charges  \\\n",
       "13    2022-08-06  RECEIVING STOLEN PROPERTY (FIREARM) 514.110 28...   \n",
       "14    2022-08-06  POSS HANDGUN BY MINOR 1ST OFFENSE 527.100 5220...   \n",
       "19    2022-04-13  POSS HANDGUN BY MINOR 1ST OFFENSE 527.100 5220...   \n",
       "23    2022-04-15   POSS HANDGUN BY MINOR 2ND OR > 527.100 52205 520   \n",
       "26    2022-05-04  POSS HANDGUN BY MINOR 1ST OFFENSE 527.100 5220...   \n",
       "...          ...                                                ...   \n",
       "4327  2022-11-26  CARRYING A CONCEALED DEADLY WEAPON 527.020 015...   \n",
       "4328  2022-12-07  RECEIVING STOLEN PROPERTY (FIREARM) 514.110 28...   \n",
       "4330  2022-12-07  POSS HANDGUN BY MINOR 1ST OFFENSE 527.100 5220...   \n",
       "4340  2023-08-01  POSS HANDGUN BY MINOR 1ST OFFENSE 527.100 5220...   \n",
       "4344  2023-09-17  POSS HANDGUN BY MINOR 1ST OFFENSE 527.100 5220...   \n",
       "\n",
       "      Charges Sequence #   Arrest #  Age  \n",
       "13                   4.0  DR77308-1   16  \n",
       "14                   5.0  DR77308-1   16  \n",
       "19                   3.0  DT83058-1   17  \n",
       "23                   3.0  DU75251-1   16  \n",
       "26                   2.0  DU94153-1   17  \n",
       "...                  ...        ...  ...  \n",
       "4327                 2.0  P463431-1   15  \n",
       "4328                 1.0  P463432-1   13  \n",
       "4330                 2.0  P463432-1   13  \n",
       "4340                 2.0    P463493   15  \n",
       "4344                 1.0    P463521   17  \n",
       "\n",
       "[522 rows x 5 columns]"
      ]
     },
     "execution_count": 17,
     "metadata": {},
     "output_type": "execute_result"
    }
   ],
   "source": [
    "\n",
    "#This has the filter to show where the rise in gun violence. Need columns, date, crime and age. \n",
    "\n",
    "handgun = ['POSS HANDGUN BY MINOR 1ST OFFENSE 527.100 52206 520','RECEIVING STOLEN PROPERTY (FIREARM) 514.110 28020 280', 'CARRYING A CONCEALED DEADLY WEAPON 527.020 01501 520','POSS HANDGUN BY MINOR 2ND OR > 527.100 52205 520', 'TBUT OR DISP FIREARM 514.030 23100 23H', 'POSSESSION OF HANDGUN BY CONVICTED FELON 527.040 52197 520','UNLAWFUL POSSESSION OF WEAPON ON SCHOOL PROPERTY 527.070 52204 520', 'UNLAWFULLY PROV/PERMIT MINOR TO POSSESS HANDGUN 527.110 52203 520','USING RESTRICTED AMMO DURING A FELONY (NO SHOTS) 527.080(2)(A) 02549 520', 'POSSESSION OF DEFACED FIREARM 527.050 01504 520','POSSESSION OF FIREARM BY CONVICTED FELON 527.040 52196 520']\n",
    "gun_filter_df= teen_data[teen_data['Charges'].isin(handgun)]\n",
    "gun_filter_df\n",
    "\n"
   ]
  },
  {
   "cell_type": "code",
   "execution_count": 18,
   "metadata": {},
   "outputs": [],
   "source": [
    "##Building final dataframe \n",
    "\n",
    "#age is rows \n",
    "#months is columns \n",
    "#data is date and total number of charges vs. gun charges \n",
    " "
   ]
  },
  {
   "cell_type": "code",
   "execution_count": 45,
   "metadata": {},
   "outputs": [
    {
     "data": {
      "text/plain": [
       "Month\n",
       "August       465\n",
       "March        443\n",
       "February     417\n",
       "May          371\n",
       "October      366\n",
       "July         359\n",
       "June         349\n",
       "April        341\n",
       "November     332\n",
       "September    324\n",
       "January      308\n",
       "December     275\n",
       "Name: count, dtype: int64"
      ]
     },
     "execution_count": 45,
     "metadata": {},
     "output_type": "execute_result"
    }
   ],
   "source": [
    "\n",
    "##filter year in data and match data set time frames to show rise in crimes with guns in teens by month\n",
    "import pandas as pd\n",
    "from datetime import datetime\n",
    "\n",
    "month_dict = {1:'January', \n",
    "              2:'February', \n",
    "              3: 'March',\n",
    "              4: 'April',\n",
    "              5: 'May', \n",
    "              6: 'June',\n",
    "              7: 'July',\n",
    "              8: 'August',\n",
    "              9: 'September', \n",
    "              10: 'October',\n",
    "              11: 'November',\n",
    "              12: 'December'}\n",
    "month_name = pd.Series([month_dict], name = 'Months')\n",
    "\n",
    "\n",
    "teen_date_values = pd.DatetimeIndex(teen_data[\"Date\"])\n",
    "\n",
    "teen_data['Year'] = teen_date_values.year\n",
    "teen_data['Month'] = teen_date_values.month\n",
    "\n",
    "teen_data['Month'] = teen_data['Month'].map(month_dict)\n",
    "\n",
    "total_arrest_month = teen_data['Month'].value_counts()\n",
    "\n",
    "        \n",
    "\n",
    "\n",
    "    \n",
    " \n"
   ]
  },
  {
   "cell_type": "code",
   "execution_count": null,
   "metadata": {},
   "outputs": [],
   "source": [
    "Dates_to_months = pd.DataFrame({'January': ['2023-01-01', '2023-01-02', '2023-01-03', '2023-01-04', '2023-01-05', '2023-01-06', '2023-01-07', '2023-01-08', '2023-01-09', '2023-01-10', '2023-01-11', '2023-01-12', '2023-01-13', '2023-01-14', '2023-01-15', '2023-01-16', '2023-01-17','2023-01-18', '2023-01-19','2023-01-20','2023-01-21', '2023-01-22', '2023-01-23', '2023-01-24', '2023-01-25', '2023-01-26', '2023-01-27', '2023-01-28', '2023-01-29', '2023-01-30', '2023-01-31'],})"
   ]
  },
  {
   "cell_type": "code",
   "execution_count": 53,
   "metadata": {},
   "outputs": [
    {
     "data": {
      "text/plain": [
       "Index(['Age', 'Gender', 'Race', 'Ethnicity', 'Charges Classification',\n",
       "       'Charges', 'Arrest Type'],\n",
       "      dtype='object')"
      ]
     },
     "execution_count": 53,
     "metadata": {},
     "output_type": "execute_result"
    }
   ],
   "source": [
    "\n",
    "\n",
    "\n"
   ]
  },
  {
   "cell_type": "code",
   "execution_count": 47,
   "metadata": {},
   "outputs": [
    {
     "ename": "KeyError",
     "evalue": "'Date'",
     "output_type": "error",
     "traceback": [
      "\u001b[0;31m---------------------------------------------------------------------------\u001b[0m",
      "\u001b[0;31mKeyError\u001b[0m                                  Traceback (most recent call last)",
      "File \u001b[0;32m/Library/Frameworks/Python.framework/Versions/3.12/lib/python3.12/site-packages/pandas/core/indexes/base.py:3805\u001b[0m, in \u001b[0;36mIndex.get_loc\u001b[0;34m(self, key)\u001b[0m\n\u001b[1;32m   3804\u001b[0m \u001b[38;5;28;01mtry\u001b[39;00m:\n\u001b[0;32m-> 3805\u001b[0m     \u001b[38;5;28;01mreturn\u001b[39;00m \u001b[38;5;28;43mself\u001b[39;49m\u001b[38;5;241;43m.\u001b[39;49m\u001b[43m_engine\u001b[49m\u001b[38;5;241;43m.\u001b[39;49m\u001b[43mget_loc\u001b[49m\u001b[43m(\u001b[49m\u001b[43mcasted_key\u001b[49m\u001b[43m)\u001b[49m\n\u001b[1;32m   3806\u001b[0m \u001b[38;5;28;01mexcept\u001b[39;00m \u001b[38;5;167;01mKeyError\u001b[39;00m \u001b[38;5;28;01mas\u001b[39;00m err:\n",
      "File \u001b[0;32mindex.pyx:167\u001b[0m, in \u001b[0;36mpandas._libs.index.IndexEngine.get_loc\u001b[0;34m()\u001b[0m\n",
      "File \u001b[0;32mindex.pyx:196\u001b[0m, in \u001b[0;36mpandas._libs.index.IndexEngine.get_loc\u001b[0;34m()\u001b[0m\n",
      "File \u001b[0;32mpandas/_libs/hashtable_class_helper.pxi:7081\u001b[0m, in \u001b[0;36mpandas._libs.hashtable.PyObjectHashTable.get_item\u001b[0;34m()\u001b[0m\n",
      "File \u001b[0;32mpandas/_libs/hashtable_class_helper.pxi:7089\u001b[0m, in \u001b[0;36mpandas._libs.hashtable.PyObjectHashTable.get_item\u001b[0;34m()\u001b[0m\n",
      "\u001b[0;31mKeyError\u001b[0m: 'Date'",
      "\nThe above exception was the direct cause of the following exception:\n",
      "\u001b[0;31mKeyError\u001b[0m                                  Traceback (most recent call last)",
      "Cell \u001b[0;32mIn[47], line 19\u001b[0m\n\u001b[1;32m      4\u001b[0m month_dict \u001b[38;5;241m=\u001b[39m {\u001b[38;5;241m1\u001b[39m:\u001b[38;5;124m'\u001b[39m\u001b[38;5;124mJanuary\u001b[39m\u001b[38;5;124m'\u001b[39m, \n\u001b[1;32m      5\u001b[0m               \u001b[38;5;241m2\u001b[39m:\u001b[38;5;124m'\u001b[39m\u001b[38;5;124mFebruary\u001b[39m\u001b[38;5;124m'\u001b[39m, \n\u001b[1;32m      6\u001b[0m               \u001b[38;5;241m3\u001b[39m: \u001b[38;5;124m'\u001b[39m\u001b[38;5;124mMarch\u001b[39m\u001b[38;5;124m'\u001b[39m,\n\u001b[0;32m   (...)\u001b[0m\n\u001b[1;32m     14\u001b[0m               \u001b[38;5;241m11\u001b[39m: \u001b[38;5;124m'\u001b[39m\u001b[38;5;124mNovember\u001b[39m\u001b[38;5;124m'\u001b[39m,\n\u001b[1;32m     15\u001b[0m               \u001b[38;5;241m12\u001b[39m: \u001b[38;5;124m'\u001b[39m\u001b[38;5;124mDecember\u001b[39m\u001b[38;5;124m'\u001b[39m}\n\u001b[1;32m     16\u001b[0m month_name \u001b[38;5;241m=\u001b[39m pd\u001b[38;5;241m.\u001b[39mSeries([month_dict], name \u001b[38;5;241m=\u001b[39m \u001b[38;5;124m'\u001b[39m\u001b[38;5;124mMonths\u001b[39m\u001b[38;5;124m'\u001b[39m)\n\u001b[0;32m---> 19\u001b[0m gun_date_values \u001b[38;5;241m=\u001b[39m pd\u001b[38;5;241m.\u001b[39mDatetimeIndex(\u001b[43mguns_demographics\u001b[49m\u001b[43m[\u001b[49m\u001b[38;5;124;43m'\u001b[39;49m\u001b[38;5;124;43mDate\u001b[39;49m\u001b[38;5;124;43m'\u001b[39;49m\u001b[43m]\u001b[49m)\n\u001b[1;32m     21\u001b[0m guns_demographics[\u001b[38;5;124m'\u001b[39m\u001b[38;5;124mYear\u001b[39m\u001b[38;5;124m'\u001b[39m] \u001b[38;5;241m=\u001b[39m gun_date_values\u001b[38;5;241m.\u001b[39myear\n\u001b[1;32m     22\u001b[0m guns_demographics[\u001b[38;5;124m'\u001b[39m\u001b[38;5;124mMonth\u001b[39m\u001b[38;5;124m'\u001b[39m] \u001b[38;5;241m=\u001b[39m gun_date_values\u001b[38;5;241m.\u001b[39mmonth\n",
      "File \u001b[0;32m/Library/Frameworks/Python.framework/Versions/3.12/lib/python3.12/site-packages/pandas/core/frame.py:4102\u001b[0m, in \u001b[0;36mDataFrame.__getitem__\u001b[0;34m(self, key)\u001b[0m\n\u001b[1;32m   4100\u001b[0m \u001b[38;5;28;01mif\u001b[39;00m \u001b[38;5;28mself\u001b[39m\u001b[38;5;241m.\u001b[39mcolumns\u001b[38;5;241m.\u001b[39mnlevels \u001b[38;5;241m>\u001b[39m \u001b[38;5;241m1\u001b[39m:\n\u001b[1;32m   4101\u001b[0m     \u001b[38;5;28;01mreturn\u001b[39;00m \u001b[38;5;28mself\u001b[39m\u001b[38;5;241m.\u001b[39m_getitem_multilevel(key)\n\u001b[0;32m-> 4102\u001b[0m indexer \u001b[38;5;241m=\u001b[39m \u001b[38;5;28;43mself\u001b[39;49m\u001b[38;5;241;43m.\u001b[39;49m\u001b[43mcolumns\u001b[49m\u001b[38;5;241;43m.\u001b[39;49m\u001b[43mget_loc\u001b[49m\u001b[43m(\u001b[49m\u001b[43mkey\u001b[49m\u001b[43m)\u001b[49m\n\u001b[1;32m   4103\u001b[0m \u001b[38;5;28;01mif\u001b[39;00m is_integer(indexer):\n\u001b[1;32m   4104\u001b[0m     indexer \u001b[38;5;241m=\u001b[39m [indexer]\n",
      "File \u001b[0;32m/Library/Frameworks/Python.framework/Versions/3.12/lib/python3.12/site-packages/pandas/core/indexes/base.py:3812\u001b[0m, in \u001b[0;36mIndex.get_loc\u001b[0;34m(self, key)\u001b[0m\n\u001b[1;32m   3807\u001b[0m     \u001b[38;5;28;01mif\u001b[39;00m \u001b[38;5;28misinstance\u001b[39m(casted_key, \u001b[38;5;28mslice\u001b[39m) \u001b[38;5;129;01mor\u001b[39;00m (\n\u001b[1;32m   3808\u001b[0m         \u001b[38;5;28misinstance\u001b[39m(casted_key, abc\u001b[38;5;241m.\u001b[39mIterable)\n\u001b[1;32m   3809\u001b[0m         \u001b[38;5;129;01mand\u001b[39;00m \u001b[38;5;28many\u001b[39m(\u001b[38;5;28misinstance\u001b[39m(x, \u001b[38;5;28mslice\u001b[39m) \u001b[38;5;28;01mfor\u001b[39;00m x \u001b[38;5;129;01min\u001b[39;00m casted_key)\n\u001b[1;32m   3810\u001b[0m     ):\n\u001b[1;32m   3811\u001b[0m         \u001b[38;5;28;01mraise\u001b[39;00m InvalidIndexError(key)\n\u001b[0;32m-> 3812\u001b[0m     \u001b[38;5;28;01mraise\u001b[39;00m \u001b[38;5;167;01mKeyError\u001b[39;00m(key) \u001b[38;5;28;01mfrom\u001b[39;00m \u001b[38;5;21;01merr\u001b[39;00m\n\u001b[1;32m   3813\u001b[0m \u001b[38;5;28;01mexcept\u001b[39;00m \u001b[38;5;167;01mTypeError\u001b[39;00m:\n\u001b[1;32m   3814\u001b[0m     \u001b[38;5;66;03m# If we have a listlike key, _check_indexing_error will raise\u001b[39;00m\n\u001b[1;32m   3815\u001b[0m     \u001b[38;5;66;03m#  InvalidIndexError. Otherwise we fall through and re-raise\u001b[39;00m\n\u001b[1;32m   3816\u001b[0m     \u001b[38;5;66;03m#  the TypeError.\u001b[39;00m\n\u001b[1;32m   3817\u001b[0m     \u001b[38;5;28mself\u001b[39m\u001b[38;5;241m.\u001b[39m_check_indexing_error(key)\n",
      "\u001b[0;31mKeyError\u001b[0m: 'Date'"
     ]
    }
   ],
   "source": [
    "import pandas as pd\n",
    "from datetime import datetime\n",
    "\n",
    "month_dict = {1:'January', \n",
    "              2:'February', \n",
    "              3: 'March',\n",
    "              4: 'April',\n",
    "              5: 'May', \n",
    "              6: 'June',\n",
    "              7: 'July',\n",
    "              8: 'August',\n",
    "              9: 'September', \n",
    "              10: 'October',\n",
    "              11: 'November',\n",
    "              12: 'December'}\n",
    "month_name = pd.Series([month_dict], name = 'Months')\n",
    "\n",
    "\n",
    "gun_date_values = pd.DatetimeIndex(guns_demographics['Date'])\n",
    "\n",
    "guns_demographics['Year'] = gun_date_values.year\n",
    "guns_demographics['Month'] = gun_date_values.month\n",
    "\n",
    "guns_demographics['Month'] = guns_demographics['Month'].map(month_dict)\n"
   ]
  },
  {
   "cell_type": "code",
   "execution_count": 48,
   "metadata": {},
   "outputs": [
    {
     "data": {
      "text/plain": [
       "Index(['Age', 'Gender', 'Race', 'Ethnicity', 'Charges Classification',\n",
       "       'Charges', 'Arrest Type'],\n",
       "      dtype='object')"
      ]
     },
     "execution_count": 48,
     "metadata": {},
     "output_type": "execute_result"
    }
   ],
   "source": []
  },
  {
   "cell_type": "code",
   "execution_count": null,
   "metadata": {},
   "outputs": [],
   "source": []
  }
 ],
 "metadata": {
  "kernelspec": {
   "display_name": "Python 3",
   "language": "python",
   "name": "python3"
  },
  "language_info": {
   "codemirror_mode": {
    "name": "ipython",
    "version": 3
   },
   "file_extension": ".py",
   "mimetype": "text/x-python",
   "name": "python",
   "nbconvert_exporter": "python",
   "pygments_lexer": "ipython3",
   "version": "3.12.2"
  }
 },
 "nbformat": 4,
 "nbformat_minor": 2
}
